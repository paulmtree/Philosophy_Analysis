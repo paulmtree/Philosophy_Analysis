{
 "cells": [
  {
   "cell_type": "markdown",
   "metadata": {},
   "source": [
    "# Data Collection"
   ]
  },
  {
   "cell_type": "markdown",
   "metadata": {},
   "source": [
    "### Import Data "
   ]
  },
  {
   "cell_type": "code",
   "execution_count": 27,
   "metadata": {},
   "outputs": [
    {
     "name": "stdout",
     "output_type": "stream",
     "text": [
      "Collecting html2text\n",
      "  Downloading https://files.pythonhosted.org/packages/ae/88/14655f727f66b3e3199f4467bafcc88283e6c31b562686bf606264e09181/html2text-2020.1.16-py3-none-any.whl\n",
      "Installing collected packages: html2text\n",
      "Successfully installed html2text-2020.1.16\n"
     ]
    }
   ],
   "source": [
    "import sys\n",
    "#!{sys.executable} -m pip install ebooklib\n",
    "#!{sys.executable} -m pip install epub-conversion\n",
    "#!{sys.executable} -m pip install bs4\n",
    "!{sys.executable} -m pip install html2text\n",
    "\n"
   ]
  },
  {
   "cell_type": "code",
   "execution_count": 5,
   "metadata": {},
   "outputs": [],
   "source": [
    "import ebooklib\n",
    "from ebooklib import epub\n",
    "book_name = \"EitherOr A Fragment of Life by Kierkegaard Søren, Hannay Alastair.epub\"\n",
    "book = epub.read_epub(book_name)"
   ]
  },
  {
   "cell_type": "code",
   "execution_count": 20,
   "metadata": {},
   "outputs": [
    {
     "name": "stdout",
     "output_type": "stream",
     "text": [
      "<EpubHtml:cover:Text/cover.html>\n",
      "<EpubHtml:fm:Text/9780140445770_Either-Or_000.html>\n",
      "<EpubHtml:chapter01:Text/9780140445770_Either-Or_001.html>\n",
      "<EpubHtml:chapter02:Text/9780140445770_Either-Or_002.html>\n",
      "<EpubHtml:chapter03:Text/9780140445770_Either-Or_003.html>\n",
      "<EpubHtml:chapter04:Text/9780140445770_Either-Or_004.html>\n",
      "<EpubHtml:chapter05:Text/9780140445770_Either-Or_005.html>\n",
      "<EpubHtml:chapter06:Text/9780140445770_Either-Or_006.html>\n",
      "<EpubHtml:chapter07:Text/9780140445770_Either-Or_007.html>\n",
      "<EpubHtml:chapter08:Text/9780140445770_Either-Or_008.html>\n",
      "<EpubHtml:chapter09:Text/9780140445770_Either-Or_009.html>\n",
      "<EpubHtml:chapter10:Text/9780140445770_Either-Or_010.html>\n",
      "<EpubHtml:chapter11:Text/9780140445770_Either-Or_011.html>\n",
      "<EpubHtml:chapter12:Text/9780140445770_Either-Or_012.html>\n",
      "<EpubHtml:chapter13:Text/9780140445770_Either-Or_013.html>\n",
      "<EpubHtml:chapter14:Text/9780140445770_Either-Or_014.html>\n",
      "<EpubHtml:chapter15:Text/9780140445770_Either-Or_000_Footnote.html>\n",
      "<EpubHtml:cover.xhtml:Text/cover.xhtml>\n"
     ]
    }
   ],
   "source": [
    "chapters = []\n",
    "for item in book.get_items():\n",
    "    if item.get_type() == ebooklib.ITEM_DOCUMENT:\n",
    "        print(item)\n",
    "        chapters.append(item.get_content())"
   ]
  },
  {
   "cell_type": "markdown",
   "metadata": {},
   "source": [
    "### Clean Data"
   ]
  },
  {
   "cell_type": "code",
   "execution_count": 34,
   "metadata": {},
   "outputs": [
    {
     "name": "stdout",
     "output_type": "stream",
     "text": [
      "\n",
      "\n",
      "PART ONE\n",
      "\n",
      "CONTAINING THE PAPERS OF A\n",
      "Are passions, then, the pagans of the soul?\n",
      "Reason alone baptized?\n",
      "Edward Young1\n",
      "PREFACE\n",
      "\n",
      "PERHAPS it has sometimes occurred to you, dear reader, to doubt the correctness of the familiar philosophical proposition that the outward is the inward, the inward the outward.2 You yourself have perhaps nursed a secret which, in its joy or pain, you felt was too precious for you to be able to initiate others into it. Your life has perhaps brought you into touch with people of whom you suspected something of the kind, yet without being able to wrest their secret from them by force or guile. Perhaps neither case applies to you and your life, and yet you are not a stranger to that doubt; it has slipped before your mind now and then like a fleeting shadow. Such a doubt comes and goes, and no one knows where it comes from or to where it hurries on. I, for my part, have always been of a somewhat heretical temper on this point of philosophy and have therefore early accustomed myself to undertaking, as best I may, observations and investigations of my own; I have sought guidance from the authors whose views in this respect I shared; in short, I have done everything in my power to fill the gap left by the philosophical literature.\n",
      "Little by little, hearing became my favourite sense; for just as it is the voice that reveals the inwardness which is incommensurable with the outer, so the ear is the instrument whereby that inwardness is grasped, hearing the sense by which it is appropriated. Whenever I found a contradiction between what I saw and what I heard, I found my doubt corroborated, and my passion for observation increased. A father-confessor is separated from the penitent by a grille; he does not see, he only hears. Gradually, as he listens, he forms a corresponding exterior. Consequently, he avoids contradiction. It is otherwise, however, when you see and hear at the same time, and yet perceive a grille between yourself and the speaker. As far as results go, my observational efforts in this direction have met with very varied success. Sometimes I have had fortune with me, sometimes not, and any returns along this road always depend on good fortune. However, I have never lost the desire to continue my investigations. Whenever I have been on the point of ruing my perseverance, my efforts have been crowned by an unexpected stroke of luck. It was an unexpected stroke of good luck of this kind that, in a most curious way, put me in possession of the papers I hereby have the honour of presenting to the reading public. These papers have given me the opportunity to gain an insight into the lives of two men which corroborated my suspicion that the outward was not, after all, the inward. This applies particularly to one of them. His exterior has been in complete contradiction to his interior. To some extent it is also true of the other inasmuch as he concealed a rather significant interior beneath a somewhat ordinary exterior.\n",
      "Still, for the record I had better explain how these papers came into my possession. It is now about seven years since, at a second-hand dealer’s here in town, I noticed an escritoire. It caught my attention the moment I saw it; it was not of modern workmanship and rather well used, yet it captivated me. I cannot possibly explain the reason for this impression, but most people have experienced something similar in their lives. My daily path took me past the dealer and his escritoire, and never a day passed but I fastened my eyes on it as I went by. Gradually that escritoire acquired a history for me; seeing it became a necessity for me, and to that end I thought nothing of going out of my way for its sake when an unaccustomed route called for that. The more I saw it the more I wanted to possess it. I was quite aware that this was a curious desire, seeing I had no use for this piece of furniture, that procuring it was an extravagance on my part. Yet, as we all know, desire is very sophistical. I found some pretext for going into the dealer’s, asked about other things, and as I was about to leave, casually made a very low offer for the escritoire. I thought the dealer might possibly have accepted. Then it would have fallen into my hands by chance. Certainly it wasn’t for the sake of the money that I behaved in this way, but for the sake of my conscience. The plan failed. The dealer was uncommonly firm. For some time again I went by every day, and looked with loving eyes upon my escritoire. ‘You must make up your mind,’ I thought, ‘for suppose it is sold, then it’s too late. Even if you succeeded in getting hold of it again, you would never have the same feeling for it.’ My heart pounded when I went into the dealer’s. It was bought and paid for. ‘This has to be the last time,’ I thought, ‘that you are so extravagant. Yes, in fact it is lucky you have bought it, for every time you look at it you will think how extravagant you were. With the escritoire a new period of your life is to begin.’ Alas, desire is very eloquent and good resolutions are always at hand!\n",
      "So the escritoire was set up in my apartment, and as my pleasure in the first period of my enamourment had been to look upon it from the street, so now I walked by it at home. Gradually I became familiar with all its rich content, its many drawers and recesses, and I was pleased in every way with the escritoire. But it was not to remain thus. In the summer of 1836 my affairs permitted me a week’s trip to the country. The postilion was ordered for five o’clock in the morning. The luggage I needed had been packed the evening before; everything was prepared. I awoke at four, but the picture of the beautiful district I was to visit had such an intoxicating effect upon me that I fell asleep again, or to dreaming. It seems my servant thought he should allow me all the sleep I could get, for it was not until half-past five that he called me. The postilion was already blowing his horn, and although I am not usually inclined to follow the orders of others I have nevertheless always made an exception of the postilion and his evocative leitmotif. I was speedily dressed. I was already at the door when it occurred to me, ‘Have you enough money in your pocket-book?’ There wasn’t much. I unlocked the escritoire to pull out my money drawer and take with me what the house could afford. What do you think! The drawer wouldn’t budge. All expedients were in vain. It was all as unfortunate as could be. To stumble just at that moment, when my ears were still ringing with the postilion’s inviting tones, on such difficulties! The blood rose to my head, I became indignant. As Xerxes had the sea whipped, I resolved to take a terrible revenge.3 A hatchet was fetched. With it I dealt the escritoire a tremendous blow. Whether in my wrath I missed or the drawer was as obstinate as I, the effect was not the one intended. The drawer was closed and the drawer remained closed. But something else happened. Whether my blow fell just on that point, or the overall shock to the whole framework of the escritoire was what did it, I don’t know; but what I do know is that there sprang open a secret door which I had never noticed before. This enclosed a recess which naturally I hadn’t discovered either. Here to my great surprise I found a mass of papers, the papers that form the content of the present work. My resolve remained unaltered. At the first station I would take out a loan. In the greatest haste a mahogany case in which there usually lay a pair of pistols was emptied and the papers placed in it. Pleasure had triumphed and gained an unexpected increase. In my heart I begged the escritoire forgiveness for the harsh treatment, while my mind found its doubt corroborated – that the outward after all is not the inward, and my empirical proposition confirmed – that luck is needed to make such discoveries.\n",
      "I arrived at Hillerød in the middle of the forenoon, put my finances in order, and let the magnificent countryside make its general impact. Immediately the following morning I began my excursions, which now took on a quite other character than I had intended. My servant followed me with the mahogany case. I sought out a romantic spot in the forest where I was as safe as possible from surprise and then took out the documents. My host, who was not unaware of these frequent peregrinations with the mahogany case, ventured the remark that I was perhaps practising at shooting with my pistols. For this remark I was much obliged to him and left him undisturbed in his belief.\n",
      "A cursory glance at the new-found papers immediately revealed that they formed two œuvres which differed markedly also in externals. One of them was written on a kind of letter-vellum in quarto, with a fairly wide margin. The handwriting was legible, sometimes even a little elegant, just once in a while careless. The other was written on full sheets of foolscap divided into columns, in the way that legal documents and the like are written. The handwriting was clear, rather extended, uniform, and even; it looked as though it belonged to a businessman. The contents, too, proved straightaway to be dissimilar. The one part contained a number of aesthetic essays of varying length, the other consisted of two long inquiries and one shorter, all ethical in content, as it seemed, and in the form of letters. On closer examination this difference proved fully corroborated, for the latter compilation consisted of letters written to the author of the first.\n",
      "But I must find some briefer way of designating the two authors. To that end I have scrutinized the papers very carefully but have found nothing, or as good as nothing. Regarding the first author, the aestheticist, there is no information at all. As for the other, the letter-writer, one learns that he was called Vilhelm, had been a judge, but of what court is not specified. If I were to go strictly by the historical facts and call him Vilhelm I would lack a corresponding appellation for the first author and have to give him some arbitrary name. I have therefore preferred to call the first author A, the second B.\n",
      "In addition to the longer essays there were, among the papers, some slips on which were written aphorisms, lyrical effusions, reflections. The handwriting alone indicated that they belonged to A. The contents confirmed this.\n",
      "The papers themselves I then tried to arrange as best I could. With B’s papers that was fairly easily done. One of the letters presupposes the other. In the second letter there is a quotation from the first. The third letter presupposes the two previous ones.\n",
      "Arranging A’s papers was not such an easy matter. I have therefore let chance determine the order, that is to say, I have left them in the order in which I found them, of course without being able to decide whether this order has any chronological value or notional significance. The scraps of paper lay loose in the hiding-place; these I have had to assign a place. I have let them come first because I thought they could best be regarded as preliminary glimpses of what the longer essays develop more connectedly. I have called them ‘Diapsalmata’,4 and added as a kind of motto ‘ad se ipsum’.5 This title and this motto are in a way mine and yet not mine. They are mine in so far as they apply to the whole collection; on the other hand they belong to A himself, for the word ‘Diapsalmata’ was written on one of the scraps, and on two of them the words ‘ad se ipsum’. Also a little French verse, which appeared above one of the aphorisms, I have had printed on the reverse of the title page, in a way A himself has frequently done. Since the majority of these aphorisms have a lyrical character, I have thought it quite suitable to use the word ‘Diapsalma’ in the main title. If the reader should think this infelicitous, then truth demands that I acknowledge it as my own invention and affirm that it was surely good taste on A’s part to use it for the aphorism over which it was found. In the arrangement of the individual aphorisms I have let chance prevail. That the individual expressions often contradict one another I found quite in order, for it belongs essentially to the mood. I did not find it worth the trouble adopting an arrangement that made these contradictions less conspicuous. I followed chance, and it is also chance that has drawn my attention to the fact that the first and the last aphorism in a way correspond to one another, in that the one as it were reverberates with the pain of being a poet, while the other savours the satisfaction of always having the laughter on one’s side.\n",
      "As for A’s aesthetic essays, I have nothing to remark in their regard. They were all ready for printing. And so far as they contain difficulties I must let these speak for themselves. […]\n",
      "The last of A’s papers is a story entitled ‘The Seducer’s Diary’. Here there are new difficulties, since A does not acknowledge himself as its author, but only as editor. This is an old short-story writer’s trick, to which I should not object further did it not contribute to making my own position so complicated, because it presents the one author as lying inside the other, as in a Chinese-box puzzle. Here is not the place to go further into what confirms me in my opinion; I shall only note that the dominant mood of A’s preface in a way betrays the writer. It is really as if A himself had become afraid of his work which, like a restless dream, still continued to frighten him while it was being told. If these were actual events to which he had been witness, it seems strange that the preface bears no stamp of A’s joy at seeing the realization of the idea that had often hovered before his mind. This idea of the seducer’s is suggested in the essay on the ‘Immediate Erotic’ as well as in ‘Shadowgraphs’, namely the idea that the analogue of Don Juan must be a reflected seducer who works within the category of the interesting, where the thing is therefore not how many he seduces but how he does it. I find no trace of such a joy in the preface but rather, as noted, a trembling, a certain horror, which is no doubt due to his poetical relation to this idea. Nor does it surprise me that it has affected A in this way; for I, too, who have nothing at all to do with this tale and am indeed twice removed from the original author, even I have at times felt quite uncomfortable while busying myself with these papers in the still of the night. It was as if the seducer moved like a shadow over my floor, as if he threw a glance at the papers, as if he fastened his demonic eye on me and said, ‘So, you mean to publish my papers! That is in any case indefensible of you; you will cause anxiety in the little dears. But then, of course, you think in return to make me and my sort harmless. There you are wrong. I shall simply change my method and then I am even better placed. What flocks of young girls will run straight into my arms when they hear that seductive name, “a seducer”! Give me half a year and I shall provide a story more interesting than everything I have experienced up to now. I imagine a young, vigorous girl with a sharp turn of mind getting the remarkable idea of avenging her sex on me. She thinks she can coerce me, give me a taste of the pangs of unrequited love. That’s a girl for me. If she doesn’t make a good enough job of it herself, I shall come to her aid. I shall writhe like the Mols people’s eel.6 And when I have brought her to that point, she is mine.’\n",
      "But perhaps I have abused my position already as editor by burdening the readers with my reflections. The occasion must speak for my pardon, for it was on the occasion of the awkwardness of my position due to A’s presenting himself only as editor of this story, and not as author, that I let myself be carried away.\n",
      "What more I have to add about this story I can only do in my capacity as editor. For I believe I can find in it some clue to the time of its action. Here and there in the diary is a date; what is missing is the year. That makes it look as though I should get no further. However, by examining the individual dates more closely I think I have found a clue. For although every year has a seventh of April, a third of July, a second of August, etc., it by no means follows that the seventh of April falls each year on a Monday. So I calculated accordingly and discovered that this combination fits the year 1834.7 Whether A has thought of that I cannot determine; I hardly believe so, for otherwise he would surely not have employed as much caution as is his custom. Nor does the diary read ‘Monday, April 7th’, etc., it says simply ‘April 7th’. Indeed the entry itself for that date begins, ‘On Monday, then’, which precisely points your mind in the wrong direction; but reading through the entry under that date, one sees that it must have been a Monday. In the case of this story, then, I have a definite date. But all attempts I have made until now with its help to determine the times of the other essays have been unsuccessful. I could just as well have placed this story third, but, as I said above, I have preferred to let chance prevail and everything remains in the order in which I found it.\n",
      "As for B’s papers, these fall easily and naturally into place. In their case, however, I have made an alteration inasmuch as I have allowed myself to furnish them with titles, seeing the letter-form has prevented the author himself from giving these inquiries a title. Should the reader, therefore, having become acquainted with the contents, find that the titles were not happily chosen, I am always willing to reconcile myself to the pain attached to doing badly what one wanted to do well. […]\n",
      "As for B’s manuscript, there I have permitted myself absolutely no changes but have looked upon it scrupulously as a document. I might perhaps have removed the occasional carelessness, which is understandable enough when one considers that he is only a letter-writer. I didn’t want to do that, because I was afraid I might go too far. […]\n",
      "The point I have now arrived at is the one I had already reached five years ago. I had arranged the papers in their present order, had made up my mind to publish them, but then thought it best after all to wait a while. I considered five years to be an appropriate space of time. Those five years have now elapsed and I am beginning where I left off. Presumably it is unnecessary to reassure the reader that I have left no stone unturned in my efforts to trace the authors. The dealer kept no books. As everyone knows, the practice is rare among second-hand dealers. He did not know from whom he had bought that piece; he seemed to recall that it had been purchased at a general auction. I shall not venture to narrate to the reader the many fruitless attempts that have consumed so much of my time, the less so seeing their recollection is so unpleasant to myself. I can at least in all brevity let the reader in on the result, for the result was absolutely nil.\n",
      "As I was about to carry out my resolve to publish the papers, a single misgiving awoke in me. The reader will perhaps permit me to speak quite frankly. It struck me that I might be guilty of an indiscretion towards the unknown authors. However, the more familiar I became with the papers, the more that misgiving diminished. The papers were of such a nature that, for all my painstaking investigations, they yielded no information. So much less likely in that case that a reader should find any, since I dare measure myself with any reader, not indeed in taste and sympathy and insight, but in industry and tirelessness. Assuming therefore that the unknown authors still existed, that they lived here in town, that they came to make this unexpected acquaintance with their works, then, if they themselves remained silent nothing would come of their publication, for it is true in the strictest sense of these papers what one usually says anyway of all printed matter – they hold their peace.\n",
      "One other misgiving I had was in itself of less importance, fairly easy to dispel, and has indeed been overcome even more easily than I had thought. It occurred to me that these papers might become a financial proposition. Although it seemed proper that I should receive a small fee for my troubles as editor, an author’s fee I had to consider much too excessive. As the honest Scottish farmers in The White Lady8 decide to buy the estate, cultivate it, and then make a present of it to the Counts of Avenel should they ever return, I decided to place the entire fee at interest, so that if the authors should ever turn up I would be able to give them the whole thing with compound interest. If my complete ineptitude has not already convinced the reader that I am no author or scholar who makes publishing his profession, then the naivety of this reasoning should put the matter beyond all doubt. This misgiving was also overcome in a much easier way, since in Denmark even an author’s fee is no manor-house, and the unknown authors would have had to stay away for a long time for their fee, even with compound interest, to become a financial proposition.\n",
      "There remained merely to give these papers a title. I could have called them ‘Papers’, ‘Posthumous Papers’, ‘Found Papers’, ‘Lost Papers’, etc.; there are many and various possibilities, as we all know. But none of these titles satisfied me. In deciding on a title I have therefore allowed myself a liberty, a deception, which I shall endeavour to answer for. During my constant occupation with these papers it dawned upon me that they could yield a new aspect if regarded as the work of one man. I am quite aware of all that can be objected to in this view, that it is unhistorical, improbable, preposterous that one person should be the author of both parts, notwithstanding the reader might well fall for the conceit that once you have said A you must also say B. However, I have still been unable to give up the idea. Then it would have been someone who had lived through both kinds of experience, or had deliberated on both. For A’s papers contain a variety of attempts at an aesthetic view of life; to convey a unified aesthetic life-view is scarcely possible. B’s papers contain an ethical life-view. As I let this thought influence my soul, it became clear to me that I might let this guide me into determining the title. This is just what the title I have chosen expresses. If there be any loss in this to the reader, it cannot be much, for he can just as well forget the title while reading the book. Once he has read it he may perhaps then think of the tide. Doing so will free him from every finite question as to whether A was actually persuaded and repented, whether B won the day, or whether, perhaps, it ended by B’s going over to A’s point of view. For in this respect these papers are without an ending. If one thinks this isn’t as it should be, it would be unwarranted to say it was mistaken, for one might just as well call it unfortunate. I, for my part, consider it a piece of good fortune. One occasionally comes across novelettes where opposite life-views are expressed through particular persons. It usually ends with one of them convincing the other; rather than insisting on the view’s speaking for itself, the reader is enriched with the historical result that the other party was convinced. I consider it a piece of good fortune that these papers provide no information in that regard. Whether A wrote his aesthetic essays after receiving B’s letters, whether his soul has continued since then to riot in wild abandon or has calmed down, of this I cannot see myself in a position to pass on a single piece of information since the papers contain none. Nor do they contain any clues as to how things have gone with B, whether he had the strength to stick to his view or not. Once the book has been read, A and B are forgotten; only the views confront each other and await no final decision in particular persons.\n",
      "I have no further comment to make except that it has occurred to me that the honourable authors, if they were aware of my project, might possibly wish to accompany their papers with a word to the reader. I shall therefore add a few words under their hands’ guidance. A would surely have no objection to the publication of the papers; to the reader he would presumably cry out, ‘Read them or don’t read them, you will regret both.’ It is harder to determine what B would say. He might perhaps direct one or another reproach at me, especially regarding the publication of A’s papers. He would let me feel that he himself had no part in it, that he could wash his hands of it. Having done that he might perhaps turn to the book with these words: ‘Go out into the world, then; avoid if possible the attention of the critics, call on a single reader in a favourable moment, and should you stumble upon a lady reader, I would say: “My fair reader, in this book you will find something you ought perhaps not to know, and something else you might well profit from knowing; so read the first something in such a way that you who have read it can be as though one who has not read it, the other in such a way that you who have read it can be as though one who has not forgotten what has been read.”’9 As editor I will only append the wish that the book meets the reader in a favourable hour, and that the fair lady reader succeeds in scrupulously following B’s well-intentioned advice.\n",
      "\n",
      "\n",
      "\n",
      "\n",
      "\n",
      "\n",
      "\n",
      "November 1842\n",
      "THE EDITOR\n",
      "\n",
      "\n",
      "\n",
      "\n",
      "\n",
      "\n"
     ]
    }
   ],
   "source": [
    "from bs4 import BeautifulSoup\n",
    "\n",
    "#remove first couple chapters and last chapters, as we can see they aren't part of the useful text of the book\n",
    "#then extract only text from HTML mess\n",
    "chapters_text = [BeautifulSoup(chap).text for chap in chapters[2:16]]\n",
    "print(chapters_text[0])\n"
   ]
  },
  {
   "cell_type": "markdown",
   "metadata": {},
   "source": [
    "## Sentiment Analysis"
   ]
  }
 ],
 "metadata": {
  "kernelspec": {
   "display_name": "Python 3",
   "language": "python",
   "name": "python3"
  },
  "language_info": {
   "codemirror_mode": {
    "name": "ipython",
    "version": 3
   },
   "file_extension": ".py",
   "mimetype": "text/x-python",
   "name": "python",
   "nbconvert_exporter": "python",
   "pygments_lexer": "ipython3",
   "version": "3.7.3"
  }
 },
 "nbformat": 4,
 "nbformat_minor": 2
}
