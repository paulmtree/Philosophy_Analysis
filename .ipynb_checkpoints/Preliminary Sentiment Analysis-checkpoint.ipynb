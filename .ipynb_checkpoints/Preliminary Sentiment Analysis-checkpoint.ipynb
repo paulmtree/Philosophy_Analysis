{
 "cells": [
  {
   "cell_type": "markdown",
   "metadata": {},
   "source": [
    "### Table of Contents\n",
    "\n",
    "1. [Data Collection](#Data-Collection) \n",
    "    - [Import Book Text and Python Libraries](#Import-Book-Text-and-Python-Libraries)\n",
    "    - [Filter out HTML from Text](#Filter-out-HTML-from-Text)\n",
    "    - [Confirm Correct Chapter Import](#Confirm-Correct-Chapter-Import)\n",
    "2. [Sentiment Analysis](#Sentiment-Analysis)\n",
    "    - [Collect Sentiment Scores](#Collect-Negative,-Positive,-Neutral,-and-Compound-Sentiment-Scores)\n",
    "        - [Additional Data Cleaning](#Filter-out-Nonsensical-Sentences)\n",
    "    - [Plot Compound Sentiment Across All Chapters](#Plot-Compound-Sentiment-Across-All-Chapters)\n",
    "        - [Graph Analysis](#Graph-Analysis)\n",
    "    - [Plot a Single Chapter's Sentiment](#Plot-a-Single-Chapter's-Sentiment)\n",
    "    - [Author Comparisons](#Author-Comparisons)\n",
    "        - a. [Two Pseudonyms Comparison](#Two-Pseudonyms-Comparison)\n",
    "        - b. [Each Chapter Comparison](#Each-Chapter-Comparison)"
   ]
  },
  {
   "cell_type": "markdown",
   "metadata": {},
   "source": [
    "# Data Collection"
   ]
  },
  {
   "cell_type": "markdown",
   "metadata": {},
   "source": [
    "## Import Book Text and Python Libraries"
   ]
  },
  {
   "cell_type": "code",
   "execution_count": 1,
   "metadata": {},
   "outputs": [
    {
     "name": "stdout",
     "output_type": "stream",
     "text": [
      "Collecting ebooklib"
     ]
    },
    {
     "name": "stderr",
     "output_type": "stream",
     "text": [
      "WARNING: You are using pip version 21.1.1; however, version 21.2.4 is available.\n",
      "You should consider upgrading via the 'c:\\python37\\python.exe -m pip install --upgrade pip' command.\n"
     ]
    },
    {
     "name": "stdout",
     "output_type": "stream",
     "text": [
      "\n",
      "  Downloading EbookLib-0.17.1.tar.gz (111 kB)\n",
      "Collecting lxml\n",
      "  Downloading lxml-4.6.3-cp37-cp37m-win_amd64.whl (3.5 MB)\n",
      "Requirement already satisfied: six in c:\\python37\\lib\\site-packages (from ebooklib) (1.15.0)\n",
      "Using legacy 'setup.py install' for ebooklib, since package 'wheel' is not installed.\n",
      "Installing collected packages: lxml, ebooklib\n",
      "    Running setup.py install for ebooklib: started\n",
      "    Running setup.py install for ebooklib: finished with status 'done'\n",
      "Successfully installed ebooklib-0.17.1 lxml-4.6.3\n",
      "Collecting epub-conversion\n",
      "  Downloading epub-conversion-1.0.15.tar.gz (6.5 kB)\n",
      "Collecting bz2file\n",
      "  Downloading bz2file-0.98.tar.gz (11 kB)\n",
      "Collecting epub\n",
      "  Downloading epub-0.5.2.tar.gz (44 kB)\n",
      "Collecting ciseau\n",
      "  Downloading ciseau-1.0.1.tar.gz (10 kB)\n",
      "Using legacy 'setup.py install' for epub-conversion, since package 'wheel' is not installed.\n",
      "Using legacy 'setup.py install' for bz2file, since package 'wheel' is not installed.\n",
      "Using legacy 'setup.py install' for ciseau, since package 'wheel' is not installed.\n",
      "Using legacy 'setup.py install' for epub, since package 'wheel' is not installed.\n",
      "Installing collected packages: epub, ciseau, bz2file, epub-conversion\n",
      "    Running setup.py install for epub: started\n",
      "    Running setup.py install for epub: finished with status 'done'\n",
      "    Running setup.py install for ciseau: started\n",
      "    Running setup.py install for ciseau: finished with status 'done'\n",
      "    Running setup.py install for bz2file: started\n",
      "    Running setup.py install for bz2file: finished with status 'done'\n",
      "    Running setup.py install for epub-conversion: started\n",
      "    Running setup.py install for epub-conversion: finished with status 'done'\n",
      "Successfully installed bz2file-0.98 ciseau-1.0.1 epub-0.5.2 epub-conversion-1.0.15\n"
     ]
    },
    {
     "name": "stderr",
     "output_type": "stream",
     "text": [
      "WARNING: You are using pip version 21.1.1; however, version 21.2.4 is available.\n",
      "You should consider upgrading via the 'c:\\python37\\python.exe -m pip install --upgrade pip' command.\n"
     ]
    },
    {
     "name": "stdout",
     "output_type": "stream",
     "text": [
      "Collecting bs4"
     ]
    },
    {
     "name": "stderr",
     "output_type": "stream",
     "text": [
      "WARNING: You are using pip version 21.1.1; however, version 21.2.4 is available.\n",
      "You should consider upgrading via the 'c:\\python37\\python.exe -m pip install --upgrade pip' command.\n"
     ]
    },
    {
     "name": "stdout",
     "output_type": "stream",
     "text": [
      "\n",
      "  Using cached bs4-0.0.1.tar.gz (1.1 kB)\n",
      "Collecting beautifulsoup4\n",
      "  Downloading beautifulsoup4-4.10.0-py3-none-any.whl (97 kB)\n",
      "Collecting soupsieve>1.2\n",
      "  Using cached soupsieve-2.2.1-py3-none-any.whl (33 kB)\n",
      "Using legacy 'setup.py install' for bs4, since package 'wheel' is not installed.\n",
      "Installing collected packages: soupsieve, beautifulsoup4, bs4\n",
      "    Running setup.py install for bs4: started\n",
      "    Running setup.py install for bs4: finished with status 'done'\n",
      "Successfully installed beautifulsoup4-4.10.0 bs4-0.0.1 soupsieve-2.2.1\n",
      "Collecting html2text"
     ]
    },
    {
     "name": "stderr",
     "output_type": "stream",
     "text": [
      "WARNING: You are using pip version 21.1.1; however, version 21.2.4 is available.\n",
      "You should consider upgrading via the 'c:\\python37\\python.exe -m pip install --upgrade pip' command.\n"
     ]
    },
    {
     "name": "stdout",
     "output_type": "stream",
     "text": [
      "\n",
      "  Downloading html2text-2020.1.16-py3-none-any.whl (32 kB)\n",
      "Installing collected packages: html2text\n",
      "Successfully installed html2text-2020.1.16\n",
      "Collecting nltk"
     ]
    },
    {
     "name": "stderr",
     "output_type": "stream",
     "text": [
      "WARNING: You are using pip version 21.1.1; however, version 21.2.4 is available.\n",
      "You should consider upgrading via the 'c:\\python37\\python.exe -m pip install --upgrade pip' command.\n"
     ]
    },
    {
     "name": "stdout",
     "output_type": "stream",
     "text": [
      "\n",
      "  Downloading nltk-3.6.2-py3-none-any.whl (1.5 MB)\n",
      "Requirement already satisfied: joblib in c:\\python37\\lib\\site-packages (from nltk) (0.17.0)\n",
      "Collecting regex\n",
      "  Downloading regex-2021.8.28-cp37-cp37m-win_amd64.whl (270 kB)\n",
      "Requirement already satisfied: tqdm in c:\\python37\\lib\\site-packages (from nltk) (4.50.2)\n",
      "Requirement already satisfied: click in c:\\python37\\lib\\site-packages (from nltk) (7.1.2)\n",
      "Installing collected packages: regex, nltk\n",
      "Successfully installed nltk-3.6.2 regex-2021.8.28\n",
      "Collecting tabulate\n",
      "  Downloading tabulate-0.8.9-py3-none-any.whl (25 kB)\n",
      "Installing collected packages: tabulate\n",
      "Successfully installed tabulate-0.8.9\n"
     ]
    },
    {
     "name": "stderr",
     "output_type": "stream",
     "text": [
      "WARNING: You are using pip version 21.1.1; however, version 21.2.4 is available.\n",
      "You should consider upgrading via the 'c:\\python37\\python.exe -m pip install --upgrade pip' command.\n"
     ]
    },
    {
     "name": "stdout",
     "output_type": "stream",
     "text": [
      "Collecting vaderSentiment\n",
      "  Downloading vaderSentiment-3.3.2-py2.py3-none-any.whl (125 kB)\n",
      "Requirement already satisfied: requests in c:\\python37\\lib\\site-packages (from vaderSentiment) (2.24.0)\n",
      "Requirement already satisfied: urllib3!=1.25.0,!=1.25.1,<1.26,>=1.21.1 in c:\\python37\\lib\\site-packages (from requests->vaderSentiment) (1.25.10)\n",
      "Requirement already satisfied: idna<3,>=2.5 in c:\\python37\\lib\\site-packages (from requests->vaderSentiment) (2.10)\n",
      "Requirement already satisfied: certifi>=2017.4.17 in c:\\python37\\lib\\site-packages (from requests->vaderSentiment) (2020.6.20)\n",
      "Requirement already satisfied: chardet<4,>=3.0.2 in c:\\python37\\lib\\site-packages (from requests->vaderSentiment) (3.0.4)\n",
      "Installing collected packages: vaderSentiment\n",
      "Successfully installed vaderSentiment-3.3.2\n"
     ]
    },
    {
     "name": "stderr",
     "output_type": "stream",
     "text": [
      "WARNING: You are using pip version 21.1.1; however, version 21.2.4 is available.\n",
      "You should consider upgrading via the 'c:\\python37\\python.exe -m pip install --upgrade pip' command.\n"
     ]
    }
   ],
   "source": [
    "import sys\n",
    "# !{sys.executable} -m pip install ebooklib\n",
    "# !{sys.executable} -m pip install epub-conversion\n",
    "# !{sys.executable} -m pip install bs4\n",
    "# !{sys.executable} -m pip install html2text\n",
    "# !{sys.executable} -m pip install nltk\n",
    "# !{sys.executable} -m pip install tabulate\n",
    "# !{sys.executable} -m pip install vaderSentiment"
   ]
  },
  {
   "cell_type": "code",
   "execution_count": 2,
   "metadata": {},
   "outputs": [],
   "source": [
    "import ebooklib\n",
    "from ebooklib import epub\n",
    "\n",
    "#read ebook as epub object\n",
    "book_name = \"EitherOr A Fragment of Life by Kierkegaard Søren, Hannay Alastair.epub\"\n",
    "book = epub.read_epub(book_name)"
   ]
  },
  {
   "cell_type": "code",
   "execution_count": 3,
   "metadata": {
    "scrolled": true
   },
   "outputs": [
    {
     "name": "stdout",
     "output_type": "stream",
     "text": [
      "Table of Contents: \n",
      "\n",
      "<EpubHtml:cover:Text/cover.html>\n",
      "<EpubHtml:fm:Text/9780140445770_Either-Or_000.html>\n",
      "<EpubHtml:chapter01:Text/9780140445770_Either-Or_001.html>\n",
      "<EpubHtml:chapter02:Text/9780140445770_Either-Or_002.html>\n",
      "<EpubHtml:chapter03:Text/9780140445770_Either-Or_003.html>\n",
      "<EpubHtml:chapter04:Text/9780140445770_Either-Or_004.html>\n",
      "<EpubHtml:chapter05:Text/9780140445770_Either-Or_005.html>\n",
      "<EpubHtml:chapter06:Text/9780140445770_Either-Or_006.html>\n",
      "<EpubHtml:chapter07:Text/9780140445770_Either-Or_007.html>\n",
      "<EpubHtml:chapter08:Text/9780140445770_Either-Or_008.html>\n",
      "<EpubHtml:chapter09:Text/9780140445770_Either-Or_009.html>\n",
      "<EpubHtml:chapter10:Text/9780140445770_Either-Or_010.html>\n",
      "<EpubHtml:chapter11:Text/9780140445770_Either-Or_011.html>\n",
      "<EpubHtml:chapter12:Text/9780140445770_Either-Or_012.html>\n",
      "<EpubHtml:chapter13:Text/9780140445770_Either-Or_013.html>\n",
      "<EpubHtml:chapter14:Text/9780140445770_Either-Or_014.html>\n",
      "<EpubHtml:chapter15:Text/9780140445770_Either-Or_000_Footnote.html>\n",
      "<EpubHtml:cover.xhtml:Text/cover.xhtml>\n"
     ]
    }
   ],
   "source": [
    "#extract chapters text\n",
    "chapters = []\n",
    "print(\"Table of Contents: \\n\")\n",
    "for item in book.get_items():\n",
    "    if item.get_type() == ebooklib.ITEM_DOCUMENT:\n",
    "        print(item)\n",
    "        chapters.append(item.get_content())"
   ]
  },
  {
   "cell_type": "markdown",
   "metadata": {},
   "source": [
    "## Filter out HTML from Text"
   ]
  },
  {
   "cell_type": "markdown",
   "metadata": {},
   "source": [
    "Examine the table of contents of the book and determine which chapters to keep. Double check your indexes by displaying the first and last chapter. Here we will remove the first couple and last chapters, as the table of contents above shows they are not important, like the cover."
   ]
  },
  {
   "cell_type": "code",
   "execution_count": 4,
   "metadata": {},
   "outputs": [],
   "source": [
    "from bs4 import BeautifulSoup\n",
    "\n",
    "#extract only text from HTML mess, also remove new lines\n",
    "chapters_text = [BeautifulSoup(chap).text.replace('\\n',' ') for chap in chapters[2:15]]\n",
    "\n",
    "#print chapter to doublecheck\n",
    "#print(chapters_text[8])"
   ]
  },
  {
   "cell_type": "code",
   "execution_count": 5,
   "metadata": {},
   "outputs": [
    {
     "name": "stderr",
     "output_type": "stream",
     "text": [
      "[nltk_data] Downloading package punkt to C:\\Users\\Paul\n",
      "[nltk_data]     McCabe\\AppData\\Roaming\\nltk_data...\n",
      "[nltk_data]   Unzipping tokenizers\\punkt.zip.\n"
     ]
    },
    {
     "name": "stdout",
     "output_type": "stream",
     "text": [
      "9371 sentences\n"
     ]
    }
   ],
   "source": [
    "import nltk\n",
    "nltk.download('punkt')\n",
    "#Tokenize sentences into a list of lists\n",
    "a_list = [nltk.tokenize.sent_tokenize(chap) for chap in chapters_text]\n",
    "\n",
    "# Get the size of list of list using list comprehension & sum() function\n",
    "count = sum([ len(listElem) for listElem in a_list])\n",
    "print(str(count) + \" sentences\")"
   ]
  },
  {
   "cell_type": "markdown",
   "metadata": {},
   "source": [
    "## Confirm Correct Chapter Import"
   ]
  },
  {
   "cell_type": "markdown",
   "metadata": {},
   "source": [
    "Print the 1st sentence of each chapter to determine the chapter name, then confirm accuracy by examing the table of contents in the Ebook. Below we can see title 8 is unusual because the first sentence is not capitalized. After checking our Ebook, we can see that it is not a new chapter and should therefore be merged with the previous chapter."
   ]
  },
  {
   "cell_type": "code",
   "execution_count": 6,
   "metadata": {},
   "outputs": [
    {
     "name": "stdout",
     "output_type": "stream",
     "text": [
      "0title:   PART ONE  CONTAINING THE PAPERS OF A Are passions, then, the pagans of the soul?\n",
      "\n",
      "1title:   1 DIAPSALMATA  ad se ipsum  Grandeur, savoir, renommé, Amitié, plaisir et bien, Tout n’est que vent, que fumée: Pour mieux dire, tout n’est rien.1  WHAT is a poet?\n",
      "\n",
      "2title:   2 THE IMMEDIATE EROTIC STAGES   OR   THE MUSICAL EROTIC  PLATITUDINOUS INTRODUCTION From the moment my soul was first overwhelmed in wonder at Mozart’s music, and bowed down to it in humble admiration, it has often been my cherished and rewarding pastime to reflect upon how that happy Greek view that calls the world a cosmos, because it manifests itself as an orderly whole, a tasteful and transparent adornment of the spirit that works upon and in it – upon how that happy view repeats itself in a higher order of things, in the world of ideals, how it may be a ruling wisdom there too, mainly to be admired for joining together those things that belong with one another: Axel with Valborg, Homer with the Trojan War, Raphael with Catholicism, Mozart with Don Juan.\n",
      "\n",
      "3title:   3 ANCIENT TRAGEDY’S REFLECTION   IN THE MODERN   An Essay in the Fragmentary Endeavour   Read before Symparanekromenoi1 An Essay in the Fragmentary Endeavour   IF someone said the tragic will always be the tragic, I wouldn’t object too much; every historical development takes place within the embrace of its concept.\n",
      "\n",
      "4title:   4 SHADOWGRAPHS  Psychological Entertainment     Read before Symparanekromenoi     Love may always breach its oath;   Love’s spell in this cave does lull       The drunken, startled soul   Into forgetting it pledged its troth.\n",
      "\n",
      "5title:   5 THE UNHAPPIEST ONE  An Enthusiastic Address to Symparanekromenoi     Peroration in the Friday Meetings   SOMEWHERE in England is said to be a grave distinguished not by a splendid monument or sad surroundings, but by a small inscription: ‘The Unhappiest One’.\n",
      "\n",
      "6title:   6 CROP ROTATION  An Attempt at a Theory of Social Prudence CHREMYLOS: There is too much of everything.\n",
      "\n",
      "7title:   7 THE SEDUCER’S DIARY         Sua passion’ predominante È la giovin principiànte.\n",
      "\n",
      "8title:   One could think of several ways of surprising Cordelia.\n",
      "\n",
      "9title:   PART TWO  CONTAINING THE PAPERS OF B: LETTERS TO A Les grandes passions sont solitaires, et les transporter   au désert, c’ est les rendre à leur empire.\n",
      "\n",
      "10title:   2 EQUILIBRIUM BETWEEN THE AESTHETIC   AND THE ETHICAL IN THE DEVELOPMENT   OF PERSONALITY    My friend!\n",
      "\n",
      "11title:   3 LAST WORD    PERHAPS you have the same experience with my previous letters as I have: you have forgotten most of what was in them.\n",
      "\n",
      "12title:   4 THE EDIFYING IN THE   THOUGHT THAT AGAINST GOD   WE ARE ALWAYS IN THE WRONG    Prayer FATHER in Heaven!\n",
      "\n"
     ]
    }
   ],
   "source": [
    "count = 0\n",
    "for chapter in a_list:\n",
    "    print(str(count) + 'title: ' + chapter[0] + '\\n')\n",
    "    count += 1"
   ]
  },
  {
   "cell_type": "markdown",
   "metadata": {},
   "source": [
    "Combine the two chapters and remove the duplicate. Then check if anything was deleted by counting the sum of elements in the 2d array and comparing it to before. (Previous count was 9371 sentences, looks good!)"
   ]
  },
  {
   "cell_type": "code",
   "execution_count": 7,
   "metadata": {},
   "outputs": [
    {
     "name": "stdout",
     "output_type": "stream",
     "text": [
      "0title:   PART ONE  CONTAINING THE PAPERS OF A Are passions, then, the pagans of the soul?\n",
      "\n",
      "1title:   1 DIAPSALMATA  ad se ipsum  Grandeur, savoir, renommé, Amitié, plaisir et bien, Tout n’est que vent, que fumée: Pour mieux dire, tout n’est rien.1  WHAT is a poet?\n",
      "\n",
      "2title:   2 THE IMMEDIATE EROTIC STAGES   OR   THE MUSICAL EROTIC  PLATITUDINOUS INTRODUCTION From the moment my soul was first overwhelmed in wonder at Mozart’s music, and bowed down to it in humble admiration, it has often been my cherished and rewarding pastime to reflect upon how that happy Greek view that calls the world a cosmos, because it manifests itself as an orderly whole, a tasteful and transparent adornment of the spirit that works upon and in it – upon how that happy view repeats itself in a higher order of things, in the world of ideals, how it may be a ruling wisdom there too, mainly to be admired for joining together those things that belong with one another: Axel with Valborg, Homer with the Trojan War, Raphael with Catholicism, Mozart with Don Juan.\n",
      "\n",
      "3title:   3 ANCIENT TRAGEDY’S REFLECTION   IN THE MODERN   An Essay in the Fragmentary Endeavour   Read before Symparanekromenoi1 An Essay in the Fragmentary Endeavour   IF someone said the tragic will always be the tragic, I wouldn’t object too much; every historical development takes place within the embrace of its concept.\n",
      "\n",
      "4title:   4 SHADOWGRAPHS  Psychological Entertainment     Read before Symparanekromenoi     Love may always breach its oath;   Love’s spell in this cave does lull       The drunken, startled soul   Into forgetting it pledged its troth.\n",
      "\n",
      "5title:   5 THE UNHAPPIEST ONE  An Enthusiastic Address to Symparanekromenoi     Peroration in the Friday Meetings   SOMEWHERE in England is said to be a grave distinguished not by a splendid monument or sad surroundings, but by a small inscription: ‘The Unhappiest One’.\n",
      "\n",
      "6title:   6 CROP ROTATION  An Attempt at a Theory of Social Prudence CHREMYLOS: There is too much of everything.\n",
      "\n",
      "7title:   7 THE SEDUCER’S DIARY         Sua passion’ predominante È la giovin principiànte.\n",
      "\n",
      "8title:   PART TWO  CONTAINING THE PAPERS OF B: LETTERS TO A Les grandes passions sont solitaires, et les transporter   au désert, c’ est les rendre à leur empire.\n",
      "\n",
      "9title:   2 EQUILIBRIUM BETWEEN THE AESTHETIC   AND THE ETHICAL IN THE DEVELOPMENT   OF PERSONALITY    My friend!\n",
      "\n",
      "10title:   3 LAST WORD    PERHAPS you have the same experience with my previous letters as I have: you have forgotten most of what was in them.\n",
      "\n",
      "11title:   4 THE EDIFYING IN THE   THOUGHT THAT AGAINST GOD   WE ARE ALWAYS IN THE WRONG    Prayer FATHER in Heaven!\n",
      "\n",
      "9371 sentences\n"
     ]
    }
   ],
   "source": [
    "a_list[7:8] = [a_list[7] + a_list[8]]\n",
    "del a_list[8]\n",
    "count = 0\n",
    "for chapter in a_list:\n",
    "    print(str(count) + 'title: ' + chapter[0] + '\\n')\n",
    "    count += 1\n",
    "    \n",
    "count = sum([len(listElem) for listElem in a_list])\n",
    "print(str(count) + \" sentences\")"
   ]
  },
  {
   "cell_type": "markdown",
   "metadata": {},
   "source": [
    "Later we will change the chapter number to these chapter names we have just found. We will continue using 0 as the first chapter/index."
   ]
  },
  {
   "cell_type": "code",
   "execution_count": 8,
   "metadata": {},
   "outputs": [],
   "source": [
    "#examine ebook and add chapter names \n",
    "chapter_names = {'0':'Preface', \n",
    "                 '1':'Diapsalmata', \n",
    "                 '2':'The Immediate Erotic Stages or the Musical Erotic', \n",
    "                 '3':'Ancient Tragedys Rreflection in the Modern', \n",
    "                 '4':'Shadowgraphs', \n",
    "                 '5':'Crop Rotation', \n",
    "                 '6':'Crop Rotation', \n",
    "                 '7':'The Seducers Diary', \n",
    "                 '8':'The Aesthetic Validity of Marriage', \n",
    "                 '9':'Equilibrium Between the Aesthetic and the Ethical in the Development of Personality', \n",
    "                 '10':'Last Word', \n",
    "                 '11':'The Edifying in the Thought that Against God We Are Always in the Wrong'}"
   ]
  },
  {
   "cell_type": "markdown",
   "metadata": {},
   "source": [
    "# Sentiment Analysis"
   ]
  },
  {
   "cell_type": "markdown",
   "metadata": {},
   "source": [
    "## Collect Negative, Positive, Neutral, and Compound Sentiment Scores\n",
    "This analysis centers around the library VADER (Valence Aware Dictionary and sEntiment Reasoner), a well-known and highly regarded sentiment analysis tool. While normally applied to social media sentences, we will try it out on philosophy. Given a sentence, VADER will score the sentence with a fraction of how positive, negative, and neutral the sentence is. These fractions add up to 1 and can be thought of as percentages. The compound score is then calculated from the aggregate of the 3 scores, more info can be found [here](https://github.com/cjhutto/vaderSentiment) at their github page. The range of values for our compound scores is between -1 and 1, with 0 being perfectly neutral. <br> <br>\n",
    "VADER sentiment analysis is not ideal for our body of work, as it is trained on social media text, is not fine-tuned to our specific dataset, and does not factor in the context of sentences as recursive neural networks do. It is however free, easy to access, and not computationally heavy so we will use it as a preliminary analysis tool."
   ]
  },
  {
   "cell_type": "code",
   "execution_count": 9,
   "metadata": {},
   "outputs": [],
   "source": [
    "from vaderSentiment.vaderSentiment import SentimentIntensityAnalyzer\n",
    "\n",
    "analyzer = SentimentIntensityAnalyzer()"
   ]
  },
  {
   "cell_type": "markdown",
   "metadata": {},
   "source": [
    "Let's check some of our sentences and see if we find the sentiment scores reasonable. I displayed only two but feel free to test more sentences by changing the numbers passed into the sentiment_analyzer_scores function."
   ]
  },
  {
   "cell_type": "code",
   "execution_count": 10,
   "metadata": {},
   "outputs": [
    {
     "name": "stdout",
     "output_type": "stream",
     "text": [
      "Your life has perhaps brought you into touch with people of whom you suspected something of the kind, yet without being able to wrest their secret from them by force or guile. {'neg': 0.054, 'neu': 0.85, 'pos': 0.096, 'compound': 0.3612}\n",
      "\n",
      "\n",
      "There is no doubt that it would be most deeply comical to have some accidental individual come by the universal idea of wanting to be the saviour of the whole world. {'neg': 0.04, 'neu': 0.895, 'pos': 0.065, 'compound': 0.2047}\n",
      "\n"
     ]
    }
   ],
   "source": [
    "#test sentiment scores with random sentences\n",
    "def sentiment_analyzer_scores(sentence, print_stat = False):\n",
    "    score = analyzer.polarity_scores(sentence)\n",
    "    if(print_stat == True):\n",
    "        print(\"{:-<40} {}\".format(sentence, str(score)))\n",
    "    return(score)\n",
    "\n",
    "#Check the sentiment of the 4th sentence is the 1st chapter (python indexes start at 0)\n",
    "sentiment_analyzer_scores(a_list[0][3], print_stat = True)\n",
    "print(\"\\n\")\n",
    "sentiment_analyzer_scores(a_list[3][40], print_stat = True)\n",
    "print(\"\")"
   ]
  },
  {
   "cell_type": "markdown",
   "metadata": {},
   "source": [
    "Both sentences are categorized as largely neutral and VADER analysis struggles to find the inherent positive and negative sentiment. This seems appropriate, as these sentences are complex and difficult to discern sentiment from. "
   ]
  },
  {
   "cell_type": "code",
   "execution_count": 11,
   "metadata": {},
   "outputs": [],
   "source": [
    "import pandas as pd\n",
    "\n",
    "#Analyze sentiment of each sentence, put into a list\n",
    "sent_list = []\n",
    "count = 0\n",
    "for chapter in a_list:\n",
    "    for x in range(0, len(chapter)):\n",
    "        #found in later analysis, there's some weird \\xa0 included\n",
    "        sentence = chapter[x].rstrip('\\n').replace(\"[…]\", \"\")\n",
    "        scores = sentiment_analyzer_scores(sentence)\n",
    "        sent_list.append([sentence, \n",
    "                          count, \n",
    "                          scores['neg'], \n",
    "                          scores['neu'], \n",
    "                          scores['pos'], \n",
    "                          scores['compound']])\n",
    "    count = count + 1\n"
   ]
  },
  {
   "cell_type": "code",
   "execution_count": 12,
   "metadata": {},
   "outputs": [
    {
     "data": {
      "text/html": [
       "<div>\n",
       "<style scoped>\n",
       "    .dataframe tbody tr th:only-of-type {\n",
       "        vertical-align: middle;\n",
       "    }\n",
       "\n",
       "    .dataframe tbody tr th {\n",
       "        vertical-align: top;\n",
       "    }\n",
       "\n",
       "    .dataframe thead th {\n",
       "        text-align: right;\n",
       "    }\n",
       "</style>\n",
       "<table border=\"1\" class=\"dataframe\">\n",
       "  <thead>\n",
       "    <tr style=\"text-align: right;\">\n",
       "      <th></th>\n",
       "      <th>index</th>\n",
       "      <th>sentence</th>\n",
       "      <th>chapter</th>\n",
       "      <th>neg</th>\n",
       "      <th>neu</th>\n",
       "      <th>pos</th>\n",
       "      <th>compound</th>\n",
       "      <th>chapter_text</th>\n",
       "    </tr>\n",
       "  </thead>\n",
       "  <tbody>\n",
       "    <tr>\n",
       "      <th>0</th>\n",
       "      <td>0</td>\n",
       "      <td>PART ONE  CONTAINING THE PAPERS OF A Are pas...</td>\n",
       "      <td>0</td>\n",
       "      <td>0.000</td>\n",
       "      <td>0.814</td>\n",
       "      <td>0.186</td>\n",
       "      <td>0.4939</td>\n",
       "      <td>Preface</td>\n",
       "    </tr>\n",
       "    <tr>\n",
       "      <th>1</th>\n",
       "      <td>1</td>\n",
       "      <td>Reason alone baptized?</td>\n",
       "      <td>0</td>\n",
       "      <td>0.500</td>\n",
       "      <td>0.500</td>\n",
       "      <td>0.000</td>\n",
       "      <td>-0.2500</td>\n",
       "      <td>Preface</td>\n",
       "    </tr>\n",
       "    <tr>\n",
       "      <th>2</th>\n",
       "      <td>2</td>\n",
       "      <td>Edward Young1 PREFACE  PERHAPS it has sometime...</td>\n",
       "      <td>0</td>\n",
       "      <td>0.083</td>\n",
       "      <td>0.773</td>\n",
       "      <td>0.144</td>\n",
       "      <td>0.6486</td>\n",
       "      <td>Preface</td>\n",
       "    </tr>\n",
       "    <tr>\n",
       "      <th>3</th>\n",
       "      <td>3</td>\n",
       "      <td>Your life has perhaps brought you into touch w...</td>\n",
       "      <td>0</td>\n",
       "      <td>0.054</td>\n",
       "      <td>0.850</td>\n",
       "      <td>0.096</td>\n",
       "      <td>0.3612</td>\n",
       "      <td>Preface</td>\n",
       "    </tr>\n",
       "    <tr>\n",
       "      <th>4</th>\n",
       "      <td>4</td>\n",
       "      <td>Perhaps neither case applies to you and your l...</td>\n",
       "      <td>0</td>\n",
       "      <td>0.071</td>\n",
       "      <td>0.857</td>\n",
       "      <td>0.071</td>\n",
       "      <td>0.0000</td>\n",
       "      <td>Preface</td>\n",
       "    </tr>\n",
       "  </tbody>\n",
       "</table>\n",
       "</div>"
      ],
      "text/plain": [
       "   index                                           sentence chapter    neg  \\\n",
       "0      0    PART ONE  CONTAINING THE PAPERS OF A Are pas...       0  0.000   \n",
       "1      1                             Reason alone baptized?       0  0.500   \n",
       "2      2  Edward Young1 PREFACE  PERHAPS it has sometime...       0  0.083   \n",
       "3      3  Your life has perhaps brought you into touch w...       0  0.054   \n",
       "4      4  Perhaps neither case applies to you and your l...       0  0.071   \n",
       "\n",
       "     neu    pos  compound chapter_text  \n",
       "0  0.814  0.186    0.4939      Preface  \n",
       "1  0.500  0.000   -0.2500      Preface  \n",
       "2  0.773  0.144    0.6486      Preface  \n",
       "3  0.850  0.096    0.3612      Preface  \n",
       "4  0.857  0.071    0.0000      Preface  "
      ]
     },
     "execution_count": 12,
     "metadata": {},
     "output_type": "execute_result"
    }
   ],
   "source": [
    "#combine list of sentence sentiments and chapter names into dataframe\n",
    "sent_df = pd.DataFrame(sent_list, columns=['sentence', \n",
    "                                'chapter', \n",
    "                                'neg', \n",
    "                                'neu', \n",
    "                                'pos', \n",
    "                                'compound'])\n",
    "sent_df = sent_df.reset_index()\n",
    "sent_df['chapter'] = sent_df['chapter'].astype('str')\n",
    "sent_df['chapter_text'] = sent_df['chapter'].map(chapter_names)\n",
    "sent_df['chapter_text'] = sent_df['chapter_text'].astype('str')\n",
    "\n",
    "sent_df.head()"
   ]
  },
  {
   "cell_type": "markdown",
   "metadata": {},
   "source": [
    "### Filter out Nonsensical Sentences"
   ]
  },
  {
   "cell_type": "markdown",
   "metadata": {},
   "source": [
    "Further examination of the data reveals some sentences are just numbers or short weird characters, how much of the data is composed of these types of sentences?"
   ]
  },
  {
   "cell_type": "code",
   "execution_count": 29,
   "metadata": {},
   "outputs": [
    {
     "data": {
      "text/plain": [
       "Text(0.5, 1.0, 'Range 0-10 Words')"
      ]
     },
     "execution_count": 29,
     "metadata": {},
     "output_type": "execute_result"
    },
    {
     "data": {
      "image/png": "[encoded data removed]",
      "text/plain": [
       "<Figure size 432x288 with 2 Axes>"
      ]
     },
     "metadata": {
      "needs_background": "light"
     },
     "output_type": "display_data"
    }
   ],
   "source": [
    "def sent_len(sentence):\n",
    "    return len(sentence.split())\n",
    "\n",
    "sentence_len_list = list(map(sent_len, sent_df['sentence']))\n",
    "\n",
    "import matplotlib.pyplot as plt\n",
    "fig, axs = plt.subplots(1,2, sharey=True, tight_layout=True)\n",
    "\n",
    "fig.suptitle(\"Histogram of Sentence Lengths\", y=1.05)\n",
    "axs[0].hist(sentence_len_list, range =(0,20))\n",
    "axs[0].set_title(label=\"Range 0-20 Words\")\n",
    "axs[1].hist(sentence_len_list, range=(0,10), bins = 10)\n",
    "plt.title(\"Range 0-10 Words\")"
   ]
  },
  {
   "cell_type": "markdown",
   "metadata": {},
   "source": [
    "There is no clear divide between errors such as 1 word sentences and other sentences. From a brief overlook of "
   ]
  },
  {
   "cell_type": "code",
   "execution_count": 14,
   "metadata": {},
   "outputs": [
    {
     "name": "stdout",
     "output_type": "stream",
     "text": [
      "1 word sentences count: 45\n"
     ]
    },
    {
     "data": {
      "text/plain": [
       "{397: 'Alas!',\n",
       " 1002: '1.',\n",
       " 1222: '2.',\n",
       " 1370: '3.',\n",
       " 2170: '1.',\n",
       " 2380: '2.',\n",
       " 2553: 'No!',\n",
       " 2555: 'No!',\n",
       " 2585: '3.',\n",
       " 2739: 'Nothing!',\n",
       " 2746: 'Oh!',\n",
       " 2757: 'Oh!',\n",
       " 2815: 'Ah!',\n",
       " 2959: 'Cf.',\n",
       " 2961: '189ff.',\n",
       " 3383: 'Johannes!',\n",
       " 3395: 'Caution!',\n",
       " 3829: 'Cordelia!',\n",
       " 3838: 'Cordelia!’.',\n",
       " 3845: 'Cordelia!',\n",
       " 3958: 'Cordelia!',\n",
       " 4064: 'Perhaps.',\n",
       " 4142: 'If!',\n",
       " 4313: 'Spirit.',\n",
       " 4314: 'Why?',\n",
       " 4318: 'Why?',\n",
       " 4473: 'Son-in-law!',\n",
       " 4776: 'Yes!',\n",
       " 4777: 'Genuinely?',\n",
       " 4778: 'Yes!',\n",
       " 4779: 'Faithfully?',\n",
       " 4780: 'Yes!',\n",
       " 4784: 'Nothing.',\n",
       " 5059: 'People?',\n",
       " 5183: 'Why?',\n",
       " 5243: 'Oh!',\n",
       " 5351: 'Perhaps.',\n",
       " 5411: 'Impossible.',\n",
       " 5915: 'Infinitude.',\n",
       " 5917: 'Limitation.',\n",
       " 6015: 'Alas!',\n",
       " 6919: 'Falsehood!',\n",
       " 7458: 'Hardly.',\n",
       " 8104: 'No.',\n",
       " 9270: 'Ah!'}"
      ]
     },
     "execution_count": 14,
     "metadata": {},
     "output_type": "execute_result"
    }
   ],
   "source": [
    "def word_count_dict(word_count):\n",
    "    sentence_len_list = list(map(sent_len, sent_df['sentence']))\n",
    "    indices = [i for i, x in enumerate(sentence_len_list) if x == word_count]\n",
    "    print(str(word_count) + \" word sentences count: \"+str(len(indices)))\n",
    "    dicts = {}\n",
    "    for index in indices:\n",
    "        dicts[index] = sent_df['sentence'][index]\n",
    "    return dicts\n",
    "word_count_dict(word_count=1)"
   ]
  },
  {
   "cell_type": "markdown",
   "metadata": {},
   "source": [
    "Examing our low word count sentences, it seems only a few are actually errors. There are a few in 1 word, none in 2 word, and none in 3 word sentences. Knowing the indexes, we can manually remove these sentenes. However for reproducibilities sake, we wil make a short script and only apply it to the 1 word count list."
   ]
  },
  {
   "cell_type": "code",
   "execution_count": 15,
   "metadata": {},
   "outputs": [
    {
     "name": "stdout",
     "output_type": "stream",
     "text": [
      "1 word sentences count: 45\n",
      "After Filtering\n",
      "1 word sentences count: 38\n"
     ]
    }
   ],
   "source": [
    "def has_number(sentence):\n",
    "    return any(char.isdigit() for char in sentence)\n",
    "\n",
    "#if sentence has a number, drop it from the sent_df dataframe\n",
    "a_dict = word_count_dict(word_count=1)\n",
    "for key in a_dict:\n",
    "    if(has_number(a_dict[key])==True):\n",
    "        sent_df = sent_df.drop(int(key))\n",
    "print(\"After Filtering\")\n",
    "_ = word_count_dict(1)"
   ]
  },
  {
   "cell_type": "code",
   "execution_count": 16,
   "metadata": {},
   "outputs": [
    {
     "name": "stdout",
     "output_type": "stream",
     "text": [
      "9364 sentences\n"
     ]
    }
   ],
   "source": [
    "#Double check that the number of sentences is the same - the number of error sentences\n",
    "print(str(len(sent_df)) + \" sentences\")"
   ]
  },
  {
   "cell_type": "code",
   "execution_count": 17,
   "metadata": {},
   "outputs": [],
   "source": [
    "#correct duplicate chapter numbers for later, merge 5 and 6 together\n",
    "def merge_chapters(chap_left, chap_right):\n",
    "    sent_df.chapter = sent_df.chapter.astype(\"int\").replace(chap_right, chap_left)\n",
    "    chap_numbers = sent_df.chapter.unique()\n",
    "    for i in range(chap_left, chap_numbers[-1], 1):\n",
    "        sent_df.chapter = sent_df.chapter.replace(i+1, i)\n",
    "        \n",
    "merge_chapters(5, 6)"
   ]
  },
  {
   "cell_type": "markdown",
   "metadata": {},
   "source": [
    "## Plot Compound Sentiment Across All Chapters"
   ]
  },
  {
   "cell_type": "markdown",
   "metadata": {},
   "source": [
    "Inspiration for the graphics and sentiment technique comes from Greg Rafferty's online article: [Sentiment Analysis on the Texts of Harry Potter](https://towardsdatascience.com/basic-nlp-on-the-texts-of-harry-potter-sentiment-analysis-1b474b13651d)."
   ]
  },
  {
   "cell_type": "code",
   "execution_count": 18,
   "metadata": {},
   "outputs": [],
   "source": [
    "#Moving average function\n",
    "def moving_average(interval, window_size):\n",
    "    window = np.ones(int(window_size))/float(window_size)\n",
    "    return np.convolve(interval, window, 'same')"
   ]
  },
  {
   "cell_type": "code",
   "execution_count": 67,
   "metadata": {},
   "outputs": [
    {
     "data": {
      "image/png": "[encoded data removed]",
      "text/plain": [
       "<Figure size 1008x288 with 1 Axes>"
      ]
     },
     "metadata": {
      "needs_background": "light"
     },
     "output_type": "display_data"
    }
   ],
   "source": [
    "import matplotlib.pyplot as plt\n",
    "import numpy as np\n",
    "import seaborn as sns\n",
    "\n",
    "#Calculate moving average for compound score, then graph it using lmplot\n",
    "y = sent_df['compound']\n",
    "sent_df['moving_avg_comp'] = moving_average(y, 150)\n",
    "font = {'family': 'serif', \n",
    "        \"weight\": 'normal', \n",
    "        'size': 27,}\n",
    "\n",
    "sns.lmplot(y='moving_avg_comp', x='index', data=sent_df, \n",
    "           hue='chapter_text', fit_reg=False, \n",
    "           height=4, aspect=3.5, legend=False, palette='Paired', \n",
    "           scatter_kws={\"s\": 10})\n",
    "\n",
    "#Add vertical lines\n",
    "chapter_places = sent_df['chapter'].diff()[lambda x: x != 0].index.tolist()\n",
    "\n",
    "for i in range(1,len(chapter_places)-1,1):\n",
    "    plt.axvline(x=chapter_places[i], color=\"#999\")\n",
    "    plt.text(chapter_places[i],-.4, i+1)\n",
    "\n",
    "#Graph formatting\n",
    "plt.xlim(0)\n",
    "plt.text(4000,-.05, \"Neutral Sentiment\")\n",
    "plt.legend(bbox_to_anchor=(1.05, 1), loc=4, borderaxespad=2, markerscale=2.0)\n",
    "plt.plot([1,9370], [0,0], linewidth=2, color = \"gray\")\n",
    "plt.title(\"Compound Sentiment Score \\nfor Kierkegaard's $\\it{Either/Or}$\", \n",
    "          loc='left', pad = 60, fontdict = font)\n",
    "plt.text(0, .58, \"150 Sentence Moving Average\", fontdict={'size': 18,\n",
    "                                                         'color': '#333'})\n",
    "font = {'family': 'serif', \n",
    "        \"weight\": 'normal', \n",
    "        'size': 16,}\n",
    "plt.xlabel(\"Sentences (~9000) with Chapters\", fontdict = font, labelpad = 20)\n",
    "plt.ylabel(\"VADER Sentiment Score\", fontdict = font)\n",
    "plt.xticks([])\n",
    "plt.show()"
   ]
  },
  {
   "cell_type": "markdown",
   "metadata": {},
   "source": [
    "### Graph Analysis"
   ]
  },
  {
   "cell_type": "markdown",
   "metadata": {},
   "source": [
    "First some background of the text is necessary <br><br>\n",
    "Kierkegaard's *Either/Or* explores one of human's most pondered questions, how should we live? It is an interesting book to analyze because it is composed of a narrator and the correspondences between two opposite-thinking psuedonyms of Kierkegaard, named A and B. The Preface is a story of how these papers were found, in an old desk (which is somewhat of a trope of Kierkegaard's, adding to the sense of mystery and discovery). The first part of the book of seven chapters is written by author A, titled *Either* and the last four chapters are written by B in response to A titled *Or*. Keep in mind the numbers represent when that chapter starts, chapter 7 *The Seducer's Diary* is written by A. <br><br> Authors A and B argue for two very different types of lifestyles. A argues for a lifestyle described by Kierkegaard as the __aesthetic__, generally living life with flexible morality and pursuing new and exciting experiences with no commitments. B on the other hand advocates for the __ethical__ life, living life with set morals and pursuing lasting happiness through long-held relationships, like marriage. Our analysis investigates this philosophical divide by examining sentiment and we can isolate each author's works by their respective chapters."
   ]
  },
  {
   "cell_type": "markdown",
   "metadata": {},
   "source": [
    "* Aesthetic chapters 2-7: A quick look at this portion of the book reveals both positive and negative sentiment, chapter 3 being largely positive and chapter 4 being very much negative. While obviously the most negative chapter of the book, it is interesting to see the sharp changes in the moving average as we start chapters 3 and 4. Perhaps the topic of the chapters is naturally characterized as negative or positive, and our VADER sentiment analysis captures this topic instead of the tone. <br><br>\n",
    "* Ethical chapters 8-11: This section of the book, written by author B, seems to be more positive overall and with an interesting degree of variability, almost cyclical at times. I think the most interesting analysis however comes with reading the text, as you can pinpoint changes in sentiment with the context of the text. <br><br>\n",
    "\n",
    "While this graph gives us a nice broad view of the book, a deeper dive into each chapter and their own statistics is necessary."
   ]
  },
  {
   "cell_type": "code",
   "execution_count": 20,
   "metadata": {},
   "outputs": [],
   "source": [
    "#Add Psuedonyms Column for either Narrator, Author A, or Author B\n",
    "chapter_author = {'Preface':'Neutral', \n",
    "                 'Diapsalmata':'Aesthetic', \n",
    "                 'The Immediate Erotic Stages or the Musical Erotic':'Aesthetic', \n",
    "                 'Ancient Tragedys Rreflection in the Modern':'Aesthetic', \n",
    "                 'Shadowgraphs':'Aesthetic', \n",
    "                 'Crop Rotation':'Aesthetic',  \n",
    "                 'The Seducers Diary':'Aesthetic', \n",
    "                 'The Aesthetic Validity of Marriage':'Ethical', \n",
    "                 'Equilibrium Between the Aesthetic and the Ethical in the Development of Personality':'Ethical', \n",
    "                 'Last Word':'Ethical', \n",
    "                 'The Edifying in the Thought that Against God We Are Always in the Wrong':'Ethical'}\n",
    "sent_df['chapter_author'] = sent_df['chapter_text'].map(chapter_author)"
   ]
  },
  {
   "cell_type": "markdown",
   "metadata": {},
   "source": [
    "## Plot a Single Chapter's Sentiment"
   ]
  },
  {
   "cell_type": "code",
   "execution_count": 21,
   "metadata": {},
   "outputs": [
    {
     "data": {
      "image/png": "[encoded data removed]",
      "text/plain": [
       "<Figure size 432x288 with 1 Axes>"
      ]
     },
     "metadata": {
      "needs_background": "light"
     },
     "output_type": "display_data"
    }
   ],
   "source": [
    "def plot_chapter(chap_num):\n",
    "    name = \"Chapter: \" + str(chapter_names[str(chap_num)]) + \"\\n Moving Average of Compound Score\"\n",
    "    data = sent_df[sent_df['chapter'] == chap_num]\n",
    "    width = len(data)\n",
    "    start = data.index[0]\n",
    "    data.plot(kind=\"line\", x='index', y='moving_avg_comp')\n",
    "    plt.plot([start, start+width], [0,0], linewidth=2, color=\"gray\")\n",
    "    plt.title(name)\n",
    "    plt.ylabel(\"Vader Sentiment Score\")\n",
    "    plt.xlabel(\"Sentences in Chronological Order\")\n",
    "    plt.xticks()\n",
    "    plt.show()\n",
    "    \n",
    "\n",
    "plot_chapter(chap_num = 5)"
   ]
  },
  {
   "cell_type": "markdown",
   "metadata": {},
   "source": [
    "Here we would like to examine the text to see if there are interesting points of context. To examine interesting points of our overall book graph, change the number in the fuction __plot_chapter =__ in the last line of the box above to the chapter number you wish to examine close-up. Then change the variable *sentence_place* below to the number you would estimate to be on the horizontal axis. <br><br> For example, I would like to find where in the text the sentiment seems to change in chapter 5. Using the graph of chapter 5 above and the lowest point on the graph to be around 2830 sentence into the book, I can print the sentence at that location."
   ]
  },
  {
   "cell_type": "code",
   "execution_count": 22,
   "metadata": {},
   "outputs": [
    {
     "name": "stdout",
     "output_type": "stream",
     "text": [
      "2830    For one blow can either deprive him of hope, s...\n",
      "Name: sentence, dtype: object\n"
     ]
    }
   ],
   "source": [
    "sentence_place = 2830\n",
    "one_sentence = str(sent_df[sent_df.index == sentence_place].sentence)\n",
    "print(one_sentence)"
   ]
  },
  {
   "cell_type": "markdown",
   "metadata": {},
   "source": [
    "With this sentence, I can then open the eBook, search for this sentence, and then investigate why the sentiment seems to change dramatically at this part of the chapter. "
   ]
  },
  {
   "cell_type": "markdown",
   "metadata": {},
   "source": [
    "## Author Comparisons\n",
    "Compare basic statistics between the two authors, keeping in mind the volume of sentences is different for each author."
   ]
  },
  {
   "cell_type": "markdown",
   "metadata": {},
   "source": [
    "### Two Pseudonyms Comparison"
   ]
  },
  {
   "cell_type": "code",
   "execution_count": 23,
   "metadata": {},
   "outputs": [
    {
     "name": "stdout",
     "output_type": "stream",
     "text": [
      "Descriptive statistics for compound column\n"
     ]
    },
    {
     "data": {
      "text/html": [
       "<div>\n",
       "<style scoped>\n",
       "    .dataframe tbody tr th:only-of-type {\n",
       "        vertical-align: middle;\n",
       "    }\n",
       "\n",
       "    .dataframe tbody tr th {\n",
       "        vertical-align: top;\n",
       "    }\n",
       "\n",
       "    .dataframe thead th {\n",
       "        text-align: right;\n",
       "    }\n",
       "</style>\n",
       "<table border=\"1\" class=\"dataframe\">\n",
       "  <thead>\n",
       "    <tr style=\"text-align: right;\">\n",
       "      <th></th>\n",
       "      <th>aesthetic</th>\n",
       "      <th>ethical</th>\n",
       "    </tr>\n",
       "  </thead>\n",
       "  <tbody>\n",
       "    <tr>\n",
       "      <th>count</th>\n",
       "      <td>5,757.000</td>\n",
       "      <td>3,393.000</td>\n",
       "    </tr>\n",
       "    <tr>\n",
       "      <th>mean</th>\n",
       "      <td>0.130</td>\n",
       "      <td>0.216</td>\n",
       "    </tr>\n",
       "    <tr>\n",
       "      <th>std</th>\n",
       "      <td>0.470</td>\n",
       "      <td>0.501</td>\n",
       "    </tr>\n",
       "    <tr>\n",
       "      <th>min</th>\n",
       "      <td>-0.986</td>\n",
       "      <td>-0.982</td>\n",
       "    </tr>\n",
       "    <tr>\n",
       "      <th>25%</th>\n",
       "      <td>-0.115</td>\n",
       "      <td>-0.052</td>\n",
       "    </tr>\n",
       "    <tr>\n",
       "      <th>50%</th>\n",
       "      <td>0.000</td>\n",
       "      <td>0.226</td>\n",
       "    </tr>\n",
       "    <tr>\n",
       "      <th>75%</th>\n",
       "      <td>0.512</td>\n",
       "      <td>0.649</td>\n",
       "    </tr>\n",
       "    <tr>\n",
       "      <th>max</th>\n",
       "      <td>0.987</td>\n",
       "      <td>0.995</td>\n",
       "    </tr>\n",
       "  </tbody>\n",
       "</table>\n",
       "</div>"
      ],
      "text/plain": [
       "       aesthetic   ethical\n",
       "count  5,757.000 3,393.000\n",
       "mean       0.130     0.216\n",
       "std        0.470     0.501\n",
       "min       -0.986    -0.982\n",
       "25%       -0.115    -0.052\n",
       "50%        0.000     0.226\n",
       "75%        0.512     0.649\n",
       "max        0.987     0.995"
      ]
     },
     "metadata": {},
     "output_type": "display_data"
    }
   ],
   "source": [
    "from tabulate import tabulate\n",
    "\n",
    "#Choose what column you would like descriptive statistics of, pos, neg, neu, or compound\n",
    "def descriptive_statistics(metric):\n",
    "    metric = str(metric)\n",
    "    sent_aes = sent_df[sent_df['chapter_author'] == 'Aesthetic']\n",
    "    sent_eth = sent_df[sent_df['chapter_author'] == 'Ethical']\n",
    "\n",
    "    aes_desc = sent_aes[metric].describe()\n",
    "    eth_desc = sent_eth[metric].describe()\n",
    "    \n",
    "    df = pd.DataFrame({\"aesthetic\": aes_desc,\n",
    "                  \"ethical\": eth_desc})\n",
    "    \n",
    "    print(\"Descriptive statistics for \" + metric + \" column\")\n",
    "    pd.options.display.float_format = '{:,.3f}'.format\n",
    "    display(df)\n",
    "    #\n",
    "    #print(tabulate(df, headers=[\"\", \"aesthetic\", \"ethical\"], \n",
    "    #          tablefmt='github', floatfmt=\".4f\"))\n",
    "\n",
    "descriptive_statistics(metric = \"compound\")"
   ]
  },
  {
   "cell_type": "code",
   "execution_count": 24,
   "metadata": {},
   "outputs": [
    {
     "data": {
      "image/png": "[encoded data removed]",
      "text/plain": [
       "<Figure size 432x288 with 1 Axes>"
      ]
     },
     "metadata": {
      "needs_background": "light"
     },
     "output_type": "display_data"
    }
   ],
   "source": [
    "import seaborn as sns\n",
    "import matplotlib.pyplot as plt\n",
    "from scipy.stats import iqr\n",
    "import statistics as stat\n",
    "import matplotlib.ticker as mtick\n",
    "\n",
    "def basic_boxplot(metric):\n",
    "    metric = str(metric)\n",
    "    sns.boxplot(x='chapter_author', y=metric, \n",
    "            data=sent_df[sent_df.chapter_author != \"Neutral\"], palette=\"Paired\")\n",
    "    plt.xlabel(\"chapter author\", fontdict = font, labelpad = 20)\n",
    "    plt.ylabel(metric + \" scores\", fontdict = font)\n",
    "    plt.suptitle(\"Boxplot of the Two Author's \" + metric + \" Scores\", fontdict = font)\n",
    "basic_boxplot(metric='compound')"
   ]
  },
  {
   "cell_type": "markdown",
   "metadata": {},
   "source": [
    "### Each Chapter Comparison"
   ]
  },
  {
   "cell_type": "code",
   "execution_count": 25,
   "metadata": {},
   "outputs": [
    {
     "name": "stdout",
     "output_type": "stream",
     "text": [
      "{'chapter 2:': 'Diapsalmata',\n",
      "'chapter 3:': 'The Immediate Erotic Stages or the Musical Erotic',\n",
      "'chapter 4:': 'Ancient Tragedys Rreflection in the Modern',\n",
      "'chapter 5:': 'Shadowgraphs',\n",
      "'chapter 6:': 'Crop Rotation',\n",
      "'chapter 7:': 'The Seducers Diary',\n",
      "'chapter 8:': 'The Aesthetic Validity of Marriage',\n",
      "'chapter 9:': 'Equilibrium Between the Aesthetic and the Ethical in the Development of Personality',\n",
      "'chapter 10:': 'Last Word',\n",
      "'chapter 11:': 'The Edifying in the Thought that Against God We Are Always in the Wrong',}\n",
      "\n",
      "\n",
      "Descriptive statistics for compound column:\n"
     ]
    },
    {
     "data": {
      "text/html": [
       "<div>\n",
       "<style scoped>\n",
       "    .dataframe tbody tr th:only-of-type {\n",
       "        vertical-align: middle;\n",
       "    }\n",
       "\n",
       "    .dataframe tbody tr th {\n",
       "        vertical-align: top;\n",
       "    }\n",
       "\n",
       "    .dataframe thead th {\n",
       "        text-align: right;\n",
       "    }\n",
       "</style>\n",
       "<table border=\"1\" class=\"dataframe\">\n",
       "  <thead>\n",
       "    <tr style=\"text-align: right;\">\n",
       "      <th></th>\n",
       "      <th>chapter 2</th>\n",
       "      <th>chapter 3</th>\n",
       "      <th>chapter 4</th>\n",
       "      <th>chapter 5</th>\n",
       "      <th>chapter 6</th>\n",
       "      <th>chapter 7</th>\n",
       "      <th>chapter 8</th>\n",
       "      <th>chapter 9</th>\n",
       "      <th>chapter 10</th>\n",
       "      <th>chapter 11</th>\n",
       "    </tr>\n",
       "  </thead>\n",
       "  <tbody>\n",
       "    <tr>\n",
       "      <th>count</th>\n",
       "      <td>293.000</td>\n",
       "      <td>1,143.000</td>\n",
       "      <td>400.000</td>\n",
       "      <td>717.000</td>\n",
       "      <td>464.000</td>\n",
       "      <td>2,740.000</td>\n",
       "      <td>1,427.000</td>\n",
       "      <td>1,754.000</td>\n",
       "      <td>23.000</td>\n",
       "      <td>189.000</td>\n",
       "    </tr>\n",
       "    <tr>\n",
       "      <th>mean</th>\n",
       "      <td>0.007</td>\n",
       "      <td>0.168</td>\n",
       "      <td>-0.162</td>\n",
       "      <td>0.070</td>\n",
       "      <td>0.019</td>\n",
       "      <td>0.205</td>\n",
       "      <td>0.280</td>\n",
       "      <td>0.186</td>\n",
       "      <td>0.307</td>\n",
       "      <td>-0.002</td>\n",
       "    </tr>\n",
       "    <tr>\n",
       "      <th>std</th>\n",
       "      <td>0.488</td>\n",
       "      <td>0.430</td>\n",
       "      <td>0.547</td>\n",
       "      <td>0.526</td>\n",
       "      <td>0.489</td>\n",
       "      <td>0.426</td>\n",
       "      <td>0.491</td>\n",
       "      <td>0.498</td>\n",
       "      <td>0.398</td>\n",
       "      <td>0.541</td>\n",
       "    </tr>\n",
       "    <tr>\n",
       "      <th>min</th>\n",
       "      <td>-0.950</td>\n",
       "      <td>-0.980</td>\n",
       "      <td>-0.972</td>\n",
       "      <td>-0.979</td>\n",
       "      <td>-0.986</td>\n",
       "      <td>-0.964</td>\n",
       "      <td>-0.944</td>\n",
       "      <td>-0.982</td>\n",
       "      <td>-0.551</td>\n",
       "      <td>-0.982</td>\n",
       "    </tr>\n",
       "    <tr>\n",
       "      <th>25%</th>\n",
       "      <td>-0.382</td>\n",
       "      <td>0.000</td>\n",
       "      <td>-0.660</td>\n",
       "      <td>-0.340</td>\n",
       "      <td>-0.381</td>\n",
       "      <td>0.000</td>\n",
       "      <td>0.000</td>\n",
       "      <td>-0.115</td>\n",
       "      <td>0.000</td>\n",
       "      <td>-0.443</td>\n",
       "    </tr>\n",
       "    <tr>\n",
       "      <th>50%</th>\n",
       "      <td>0.000</td>\n",
       "      <td>0.000</td>\n",
       "      <td>-0.143</td>\n",
       "      <td>0.000</td>\n",
       "      <td>0.000</td>\n",
       "      <td>0.093</td>\n",
       "      <td>0.361</td>\n",
       "      <td>0.154</td>\n",
       "      <td>0.440</td>\n",
       "      <td>0.000</td>\n",
       "    </tr>\n",
       "    <tr>\n",
       "      <th>75%</th>\n",
       "      <td>0.439</td>\n",
       "      <td>0.527</td>\n",
       "      <td>0.227</td>\n",
       "      <td>0.494</td>\n",
       "      <td>0.430</td>\n",
       "      <td>0.572</td>\n",
       "      <td>0.718</td>\n",
       "      <td>0.612</td>\n",
       "      <td>0.649</td>\n",
       "      <td>0.440</td>\n",
       "    </tr>\n",
       "    <tr>\n",
       "      <th>max</th>\n",
       "      <td>0.963</td>\n",
       "      <td>0.987</td>\n",
       "      <td>0.980</td>\n",
       "      <td>0.986</td>\n",
       "      <td>0.973</td>\n",
       "      <td>0.986</td>\n",
       "      <td>0.990</td>\n",
       "      <td>0.995</td>\n",
       "      <td>0.927</td>\n",
       "      <td>0.978</td>\n",
       "    </tr>\n",
       "  </tbody>\n",
       "</table>\n",
       "</div>"
      ],
      "text/plain": [
       "       chapter 2  chapter 3  chapter 4  chapter 5  chapter 6  chapter 7  \\\n",
       "count    293.000  1,143.000    400.000    717.000    464.000  2,740.000   \n",
       "mean       0.007      0.168     -0.162      0.070      0.019      0.205   \n",
       "std        0.488      0.430      0.547      0.526      0.489      0.426   \n",
       "min       -0.950     -0.980     -0.972     -0.979     -0.986     -0.964   \n",
       "25%       -0.382      0.000     -0.660     -0.340     -0.381      0.000   \n",
       "50%        0.000      0.000     -0.143      0.000      0.000      0.093   \n",
       "75%        0.439      0.527      0.227      0.494      0.430      0.572   \n",
       "max        0.963      0.987      0.980      0.986      0.973      0.986   \n",
       "\n",
       "       chapter 8  chapter 9  chapter 10  chapter 11  \n",
       "count  1,427.000  1,754.000      23.000     189.000  \n",
       "mean       0.280      0.186       0.307      -0.002  \n",
       "std        0.491      0.498       0.398       0.541  \n",
       "min       -0.944     -0.982      -0.551      -0.982  \n",
       "25%        0.000     -0.115       0.000      -0.443  \n",
       "50%        0.361      0.154       0.440       0.000  \n",
       "75%        0.718      0.612       0.649       0.440  \n",
       "max        0.990      0.995       0.927       0.978  "
      ]
     },
     "metadata": {},
     "output_type": "display_data"
    }
   ],
   "source": [
    "def desc_stat_chapters(metric):\n",
    "    #filter out preface, get list of chapters to describe\n",
    "    metric = str(metric)\n",
    "    df_chap = sent_df[sent_df.chapter_author != \"Neutral\"]\n",
    "    chapters = df_chap['chapter_text'].unique()\n",
    "    \n",
    "    #Get descriptive statistics for each chapter\n",
    "    dicts = {}\n",
    "    key_dict = {}\n",
    "    i = 2\n",
    "    for chap in chapters:\n",
    "        df = df_chap[df_chap['chapter_text'] == chap]\n",
    "        desc = df[metric].describe()\n",
    "        dicts['chapter ' + str(i)] = desc\n",
    "        key_dict['chapter ' + str(i) + \":\"] = chap\n",
    "        i += 1\n",
    "\n",
    "    #Display the stats and chapter key\n",
    "    df = pd.DataFrame(dicts)\n",
    "    pd.options.display.float_format = '{:,.3f}'.format\n",
    "    print(\"{\" + \"\\n\".join(\"{!r}: {!r},\".format(k, v) for k, v in key_dict.items()) + \"}\")\n",
    "    print(\"\\n\")\n",
    "    print(\"Descriptive statistics for \" + metric + \" column:\")\n",
    "    #print(tabulate(df, headers=[\"\", list(key_dict.keys())], tablefmt='github', floatfmt=\".2f\"))\n",
    "    display(df)\n",
    "    return(key_dict)\n",
    "\n",
    "key_dict = desc_stat_chapters(metric = \"compound\")\n",
    "\n",
    "#create shortened chapter name with number\n",
    "inv_map = {v: k for k, v in key_dict.items()}\n",
    "sent_df['chapter_text_num'] = sent_df['chapter_text'].map(inv_map)"
   ]
  },
  {
   "cell_type": "code",
   "execution_count": 26,
   "metadata": {},
   "outputs": [
    {
     "data": {
      "image/png": "[encoded data removed]",
      "text/plain": [
       "<Figure size 1152x576 with 1 Axes>"
      ]
     },
     "metadata": {
      "needs_background": "light"
     },
     "output_type": "display_data"
    },
    {
     "name": "stdout",
     "output_type": "stream",
     "text": [
      "{'chapter 2:': 'Diapsalmata',\n",
      "'chapter 3:': 'The Immediate Erotic Stages or the Musical Erotic',\n",
      "'chapter 4:': 'Ancient Tragedys Rreflection in the Modern',\n",
      "'chapter 5:': 'Shadowgraphs',\n",
      "'chapter 6:': 'Crop Rotation',\n",
      "'chapter 7:': 'The Seducers Diary',\n",
      "'chapter 8:': 'The Aesthetic Validity of Marriage',\n",
      "'chapter 9:': 'Equilibrium Between the Aesthetic and the Ethical in the Development of Personality',\n",
      "'chapter 10:': 'Last Word',\n",
      "'chapter 11:': 'The Edifying in the Thought that Against God We Are Always in the Wrong',}\n"
     ]
    }
   ],
   "source": [
    "%matplotlib inline\n",
    "\n",
    "#plot each chapter's boxplot with color key for the two psuedonyms\n",
    "def chapters_boxplot(metric):\n",
    "    #basic plot with specified metric\n",
    "    metric = str(metric)\n",
    "    plt.figure(figsize=(16, 8))\n",
    "    b = sns.boxplot(x='chapter_text_num', y=metric, dodge=False,\n",
    "            data=sent_df[sent_df.chapter_author != \"Neutral\"], \n",
    "                palette=\"Paired\", hue='chapter_author', width=.7)\n",
    "    \n",
    "    #formatting\n",
    "    font = {'family': 'serif', \n",
    "        \"weight\": 'normal', \n",
    "        'size': 27,}\n",
    "    b.set_xlabel(\"chapters in chronological order\", fontdict = font, labelpad = 20)\n",
    "    b.set_ylabel(metric + \" scores\", fontdict = font)\n",
    "    b.legend(loc = 10, bbox_to_anchor=(.65,0.3), prop={'size': 20})\n",
    "    font = {'family': 'serif', \"weight\": 'normal', 'size': 30}\n",
    "    b.axes.set_title(\"Boxplot of the Two Author's \" + metric + \" Scores\", \n",
    "                     fontdict=font, pad=20)\n",
    "    b.tick_params(axis=\"x\", labelsize=14)\n",
    "    b.tick_params(axis=\"y\", labelsize=16)\n",
    "    plt.show()\n",
    "    \n",
    "chapters_boxplot(metric='compound')\n",
    "\n",
    "#print a key to help with x-axis\n",
    "print(\"{\" + \"\\n\".join(\"{!r}: {!r},\".format(k, v) for k, v in key_dict.items()) + \"}\")"
   ]
  },
  {
   "cell_type": "markdown",
   "metadata": {},
   "source": [
    "### Graphical Analysis\n",
    "(Insert intelligent comments here)"
   ]
  },
  {
   "cell_type": "markdown",
   "metadata": {},
   "source": [
    "### Save Dataframe to csv File"
   ]
  },
  {
   "cell_type": "code",
   "execution_count": 27,
   "metadata": {},
   "outputs": [],
   "source": [
    "sent_df.to_csv(\"sentiment_dataframe.csv\", index=False)"
   ]
  }
 ],
 "metadata": {
  "kernelspec": {
   "display_name": "Python 3",
   "language": "python",
   "name": "python3"
  },
  "language_info": {
   "codemirror_mode": {
    "name": "ipython",
    "version": 3
   },
   "file_extension": ".py",
   "mimetype": "text/x-python",
   "name": "python",
   "nbconvert_exporter": "python",
   "pygments_lexer": "ipython3",
   "version": "3.7.6"
  }
 },
 "nbformat": 4,
 "nbformat_minor": 4
}
