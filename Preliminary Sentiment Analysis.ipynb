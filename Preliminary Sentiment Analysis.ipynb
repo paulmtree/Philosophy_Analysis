{
 "cells": [
  {
   "cell_type": "markdown",
   "metadata": {},
   "source": [
    "# Data Collection"
   ]
  },
  {
   "cell_type": "markdown",
   "metadata": {},
   "source": [
    "### Import Data and Python Libraries"
   ]
  },
  {
   "cell_type": "code",
   "execution_count": 1,
   "metadata": {},
   "outputs": [],
   "source": [
    "import sys\n",
    "#!{sys.executable} -m pip install ebooklib\n",
    "#!{sys.executable} -m pip install epub-conversion\n",
    "#!{sys.executable} -m pip install bs4\n",
    "#!{sys.executable} -m pip install html2text\n",
    "#!{sys.executable} -m pip install nltk\n",
    "#!{sys.executable} -m pip install tabulate\n",
    "#!{sys.executable} -m pip install vaderSentiment"
   ]
  },
  {
   "cell_type": "code",
   "execution_count": 2,
   "metadata": {},
   "outputs": [],
   "source": [
    "import ebooklib\n",
    "from ebooklib import epub\n",
    "\n",
    "#read ebook as epub object\n",
    "book_name = \"EitherOr A Fragment of Life by Kierkegaard Søren, Hannay Alastair.epub\"\n",
    "book = epub.read_epub(book_name)"
   ]
  },
  {
   "cell_type": "code",
   "execution_count": 3,
   "metadata": {
    "scrolled": true
   },
   "outputs": [
    {
     "name": "stdout",
     "output_type": "stream",
     "text": [
      "Table of Contents: \n",
      "\n",
      "<EpubHtml:cover:Text/cover.html>\n",
      "<EpubHtml:fm:Text/9780140445770_Either-Or_000.html>\n",
      "<EpubHtml:chapter01:Text/9780140445770_Either-Or_001.html>\n",
      "<EpubHtml:chapter02:Text/9780140445770_Either-Or_002.html>\n",
      "<EpubHtml:chapter03:Text/9780140445770_Either-Or_003.html>\n",
      "<EpubHtml:chapter04:Text/9780140445770_Either-Or_004.html>\n",
      "<EpubHtml:chapter05:Text/9780140445770_Either-Or_005.html>\n",
      "<EpubHtml:chapter06:Text/9780140445770_Either-Or_006.html>\n",
      "<EpubHtml:chapter07:Text/9780140445770_Either-Or_007.html>\n",
      "<EpubHtml:chapter08:Text/9780140445770_Either-Or_008.html>\n",
      "<EpubHtml:chapter09:Text/9780140445770_Either-Or_009.html>\n",
      "<EpubHtml:chapter10:Text/9780140445770_Either-Or_010.html>\n",
      "<EpubHtml:chapter11:Text/9780140445770_Either-Or_011.html>\n",
      "<EpubHtml:chapter12:Text/9780140445770_Either-Or_012.html>\n",
      "<EpubHtml:chapter13:Text/9780140445770_Either-Or_013.html>\n",
      "<EpubHtml:chapter14:Text/9780140445770_Either-Or_014.html>\n",
      "<EpubHtml:chapter15:Text/9780140445770_Either-Or_000_Footnote.html>\n",
      "<EpubHtml:cover.xhtml:Text/cover.xhtml>\n"
     ]
    }
   ],
   "source": [
    "#extract chapters text\n",
    "chapters = []\n",
    "print(\"Table of Contents: \\n\")\n",
    "for item in book.get_items():\n",
    "    if item.get_type() == ebooklib.ITEM_DOCUMENT:\n",
    "        print(item)\n",
    "        chapters.append(item.get_content())"
   ]
  },
  {
   "cell_type": "markdown",
   "metadata": {},
   "source": [
    "## Clean Data"
   ]
  },
  {
   "cell_type": "markdown",
   "metadata": {},
   "source": [
    "Examine the table of contents of the book and determine which chapters to keep. Double check your indexes by displaying the first and last chapter. Here we will remove the first couple and last chapters, as the table of contents above shows they are not important, like the cover."
   ]
  },
  {
   "cell_type": "code",
   "execution_count": 4,
   "metadata": {},
   "outputs": [],
   "source": [
    "from bs4 import BeautifulSoup\n",
    "\n",
    "#extract only text from HTML mess, also remove new lines\n",
    "chapters_text = [BeautifulSoup(chap).text.replace('\\n',' ') for chap in chapters[2:15]]\n",
    "\n",
    "#print chapter to doublecheck\n",
    "#print(chapters_text[8])"
   ]
  },
  {
   "cell_type": "code",
   "execution_count": 5,
   "metadata": {},
   "outputs": [
    {
     "name": "stderr",
     "output_type": "stream",
     "text": [
      "[nltk_data] Downloading package punkt to\n",
      "[nltk_data]     /Users/paulmccabe/nltk_data...\n",
      "[nltk_data]   Package punkt is already up-to-date!\n"
     ]
    },
    {
     "name": "stdout",
     "output_type": "stream",
     "text": [
      "9371 sentences\n"
     ]
    }
   ],
   "source": [
    "import nltk\n",
    "nltk.download('punkt')\n",
    "#Tokenize sentences into a list of lists\n",
    "a_list = [nltk.tokenize.sent_tokenize(chap) for chap in chapters_text]\n",
    "\n",
    "# Get the size of list of list using list comprehension & sum() function\n",
    "count = sum( [ len(listElem) for listElem in a_list])\n",
    "print(str(count) + \" sentences\")"
   ]
  },
  {
   "cell_type": "markdown",
   "metadata": {},
   "source": [
    "### Examine the Data\n",
    "Print the 1st sentence of each chapter to determine the chapter name, then confirm accuracy by examing the table of contents in the Ebook. Below we can see title 8 is unusual because the first sentence is not capitalized. After checking our Ebook, we can see that it is not a new chapter and should therefore be merged with the previous chapter."
   ]
  },
  {
   "cell_type": "code",
   "execution_count": 6,
   "metadata": {},
   "outputs": [
    {
     "name": "stdout",
     "output_type": "stream",
     "text": [
      "0title:   PART ONE  CONTAINING THE PAPERS OF A Are passions, then, the pagans of the soul?\n",
      "\n",
      "1title:   1 DIAPSALMATA  ad se ipsum  Grandeur, savoir, renommé, Amitié, plaisir et bien, Tout n’est que vent, que fumée: Pour mieux dire, tout n’est rien.1  WHAT is a poet?\n",
      "\n",
      "2title:   2 THE IMMEDIATE EROTIC STAGES   OR   THE MUSICAL EROTIC  PLATITUDINOUS INTRODUCTION From the moment my soul was first overwhelmed in wonder at Mozart’s music, and bowed down to it in humble admiration, it has often been my cherished and rewarding pastime to reflect upon how that happy Greek view that calls the world a cosmos, because it manifests itself as an orderly whole, a tasteful and transparent adornment of the spirit that works upon and in it – upon how that happy view repeats itself in a higher order of things, in the world of ideals, how it may be a ruling wisdom there too, mainly to be admired for joining together those things that belong with one another: Axel with Valborg, Homer with the Trojan War, Raphael with Catholicism, Mozart with Don Juan.\n",
      "\n",
      "3title:   3 ANCIENT TRAGEDY’S REFLECTION   IN THE MODERN   An Essay in the Fragmentary Endeavour   Read before Symparanekromenoi1 An Essay in the Fragmentary Endeavour   IF someone said the tragic will always be the tragic, I wouldn’t object too much; every historical development takes place within the embrace of its concept.\n",
      "\n",
      "4title:   4 SHADOWGRAPHS  Psychological Entertainment     Read before Symparanekromenoi     Love may always breach its oath;   Love’s spell in this cave does lull       The drunken, startled soul   Into forgetting it pledged its troth.\n",
      "\n",
      "5title:   5 THE UNHAPPIEST ONE  An Enthusiastic Address to Symparanekromenoi     Peroration in the Friday Meetings   SOMEWHERE in England is said to be a grave distinguished not by a splendid monument or sad surroundings, but by a small inscription: ‘The Unhappiest One’.\n",
      "\n",
      "6title:   6 CROP ROTATION  An Attempt at a Theory of Social Prudence CHREMYLOS: There is too much of everything.\n",
      "\n",
      "7title:   7 THE SEDUCER’S DIARY         Sua passion’ predominante È la giovin principiànte.\n",
      "\n",
      "8title:   One could think of several ways of surprising Cordelia.\n",
      "\n",
      "9title:   PART TWO  CONTAINING THE PAPERS OF B: LETTERS TO A Les grandes passions sont solitaires, et les transporter   au désert, c’ est les rendre à leur empire.\n",
      "\n",
      "10title:   2 EQUILIBRIUM BETWEEN THE AESTHETIC   AND THE ETHICAL IN THE DEVELOPMENT   OF PERSONALITY    My friend!\n",
      "\n",
      "11title:   3 LAST WORD    PERHAPS you have the same experience with my previous letters as I have: you have forgotten most of what was in them.\n",
      "\n",
      "12title:   4 THE EDIFYING IN THE   THOUGHT THAT AGAINST GOD   WE ARE ALWAYS IN THE WRONG    Prayer FATHER in Heaven!\n",
      "\n"
     ]
    }
   ],
   "source": [
    "count = 0\n",
    "for chapter in a_list:\n",
    "    print(str(count) + 'title: ' + chapter[0] + '\\n')\n",
    "    count += 1"
   ]
  },
  {
   "cell_type": "markdown",
   "metadata": {},
   "source": [
    "Combine the two chapters and remove the duplicate. Then check if anything was deleted by counting the sum of elements in the 2d array and comparing it to before. (Previous count was 9371 sentences, looks good!)"
   ]
  },
  {
   "cell_type": "code",
   "execution_count": 7,
   "metadata": {},
   "outputs": [
    {
     "name": "stdout",
     "output_type": "stream",
     "text": [
      "0title:   PART ONE  CONTAINING THE PAPERS OF A Are passions, then, the pagans of the soul?\n",
      "\n",
      "1title:   1 DIAPSALMATA  ad se ipsum  Grandeur, savoir, renommé, Amitié, plaisir et bien, Tout n’est que vent, que fumée: Pour mieux dire, tout n’est rien.1  WHAT is a poet?\n",
      "\n",
      "2title:   2 THE IMMEDIATE EROTIC STAGES   OR   THE MUSICAL EROTIC  PLATITUDINOUS INTRODUCTION From the moment my soul was first overwhelmed in wonder at Mozart’s music, and bowed down to it in humble admiration, it has often been my cherished and rewarding pastime to reflect upon how that happy Greek view that calls the world a cosmos, because it manifests itself as an orderly whole, a tasteful and transparent adornment of the spirit that works upon and in it – upon how that happy view repeats itself in a higher order of things, in the world of ideals, how it may be a ruling wisdom there too, mainly to be admired for joining together those things that belong with one another: Axel with Valborg, Homer with the Trojan War, Raphael with Catholicism, Mozart with Don Juan.\n",
      "\n",
      "3title:   3 ANCIENT TRAGEDY’S REFLECTION   IN THE MODERN   An Essay in the Fragmentary Endeavour   Read before Symparanekromenoi1 An Essay in the Fragmentary Endeavour   IF someone said the tragic will always be the tragic, I wouldn’t object too much; every historical development takes place within the embrace of its concept.\n",
      "\n",
      "4title:   4 SHADOWGRAPHS  Psychological Entertainment     Read before Symparanekromenoi     Love may always breach its oath;   Love’s spell in this cave does lull       The drunken, startled soul   Into forgetting it pledged its troth.\n",
      "\n",
      "5title:   5 THE UNHAPPIEST ONE  An Enthusiastic Address to Symparanekromenoi     Peroration in the Friday Meetings   SOMEWHERE in England is said to be a grave distinguished not by a splendid monument or sad surroundings, but by a small inscription: ‘The Unhappiest One’.\n",
      "\n",
      "6title:   6 CROP ROTATION  An Attempt at a Theory of Social Prudence CHREMYLOS: There is too much of everything.\n",
      "\n",
      "7title:   7 THE SEDUCER’S DIARY         Sua passion’ predominante È la giovin principiànte.\n",
      "\n",
      "8title:   PART TWO  CONTAINING THE PAPERS OF B: LETTERS TO A Les grandes passions sont solitaires, et les transporter   au désert, c’ est les rendre à leur empire.\n",
      "\n",
      "9title:   2 EQUILIBRIUM BETWEEN THE AESTHETIC   AND THE ETHICAL IN THE DEVELOPMENT   OF PERSONALITY    My friend!\n",
      "\n",
      "10title:   3 LAST WORD    PERHAPS you have the same experience with my previous letters as I have: you have forgotten most of what was in them.\n",
      "\n",
      "11title:   4 THE EDIFYING IN THE   THOUGHT THAT AGAINST GOD   WE ARE ALWAYS IN THE WRONG    Prayer FATHER in Heaven!\n",
      "\n",
      "9371 sentences\n"
     ]
    }
   ],
   "source": [
    "a_list[7:8] = [a_list[7] + a_list[8]]\n",
    "del a_list[8]\n",
    "count = 0\n",
    "for chapter in a_list:\n",
    "    print(str(count) + 'title: ' + chapter[0] + '\\n')\n",
    "    count += 1\n",
    "    \n",
    "count = sum( [ len(listElem) for listElem in a_list])\n",
    "print(str(count) + \" sentences\")"
   ]
  },
  {
   "cell_type": "markdown",
   "metadata": {},
   "source": [
    "Later we will change the chapter number to these chapter names we have just found. We will continue using 0 as the first chapter/index."
   ]
  },
  {
   "cell_type": "code",
   "execution_count": 8,
   "metadata": {},
   "outputs": [],
   "source": [
    "#examine ebook and add chapter names \n",
    "chapter_names = {'0':'Preface', \n",
    "                 '1':'Diapsalmata', \n",
    "                 '2':'The Immediate Erotic Stages or the Musical Erotic', \n",
    "                 '3':'Ancient Tragedys Rreflection in the Modern', \n",
    "                 '4':'Shadowgraphs', \n",
    "                 '5':'Crop Rotation', \n",
    "                 '6':'Crop Rotation', \n",
    "                 '7':'The Seducers Diary', \n",
    "                 '8':'The Aesthetic Validity of Marriage', \n",
    "                 '9':'Equilibrium Between the Aesthetic and the Ethical in the Development of Personality', \n",
    "                 '10':'Last Word', \n",
    "                 '11':'The Edifying in the Thought that Against God We Are Always in the Wrong'}"
   ]
  },
  {
   "cell_type": "markdown",
   "metadata": {},
   "source": [
    "# Sentiment Analysis"
   ]
  },
  {
   "cell_type": "markdown",
   "metadata": {},
   "source": [
    "## Collect Negative, Positive, Neutral, and Compound Sentiment Scores\n",
    "This analysis centers around the library VADER (Valence Aware Dictionary and sEntiment Reasoner), a well-known and highly regarded sentiment analysis tool. While normally applied to social media sentences, we will try it out on philosophy. Given a sentence, VADER will score the sentence with a fraction of how positive, negative, and neutral the sentence is. These fractions add up to 1 and can be thought of as percentages. The compound score is then calculated from the aggregate of the 3 scores, more info can be found [here](https://github.com/cjhutto/vaderSentiment) at their github page. The range of values for our compound scores is between -1 and 1, with 0 being perfectly neutral. <br> <br>\n",
    "VADER sentiment analysis is not ideal for our body of work, as it is trained on social media text, is not fine-tuned to our specific dataset, and does not factor in the context of sentences as recursive neural networks do. It is however free, easy to access, and not computationally heavy so we will use it as a preliminary analysis tool."
   ]
  },
  {
   "cell_type": "code",
   "execution_count": 9,
   "metadata": {},
   "outputs": [],
   "source": [
    "from vaderSentiment.vaderSentiment import SentimentIntensityAnalyzer\n",
    "\n",
    "analyzer = SentimentIntensityAnalyzer()"
   ]
  },
  {
   "cell_type": "markdown",
   "metadata": {},
   "source": [
    "Let's check some of our sentences and see if we find the sentiment scores reasonable. I displayed only two but feel free to test more sentences by changing the numbers passed into the sentiment_analyzer_scores function."
   ]
  },
  {
   "cell_type": "code",
   "execution_count": 28,
   "metadata": {},
   "outputs": [
    {
     "name": "stdout",
     "output_type": "stream",
     "text": [
      "Your life has perhaps brought you into touch with people of whom you suspected something of the kind, yet without being able to wrest their secret from them by force or guile. {'neg': 0.054, 'neu': 0.85, 'pos': 0.096, 'compound': 0.3612}\n",
      "\n",
      "\n",
      "There is no doubt that it would be most deeply comical to have some accidental individual come by the universal idea of wanting to be the saviour of the whole world. {'neg': 0.04, 'neu': 0.895, 'pos': 0.065, 'compound': 0.2047}\n",
      "\n"
     ]
    }
   ],
   "source": [
    "#test sentiment scores with random sentences\n",
    "def sentiment_analyzer_scores(sentence, print_stat = False):\n",
    "    score = analyzer.polarity_scores(sentence)\n",
    "    if(print_stat == True):\n",
    "        print(\"{:-<40} {}\".format(sentence, str(score)))\n",
    "    return(score)\n",
    "\n",
    "#Check the sentiment of the 4th sentence is the 1st chapter (python indexes start at 0)\n",
    "sentiment_analyzer_scores(a_list[0][3], print_stat = True)\n",
    "print(\"\\n\")\n",
    "sentiment_analyzer_scores(a_list[3][40], print_stat = True)\n",
    "print(\"\")"
   ]
  },
  {
   "cell_type": "markdown",
   "metadata": {},
   "source": [
    "Both sentences are categorized as largely neutral and VADER analysis struggles to find the inherent positive and negative sentiment. This seems appropriate, as these sentences are complex and difficult to discern sentiment from. "
   ]
  },
  {
   "cell_type": "code",
   "execution_count": 23,
   "metadata": {},
   "outputs": [],
   "source": [
    "import pandas as pd\n",
    "\n",
    "#Analyze sentiment of each sentence, put into a list\n",
    "sent_list = []\n",
    "for chapter in a_list:\n",
    "    for x in range(0, len(chapter)):\n",
    "        sentence = chapter[x].rstrip('\\n')\n",
    "        scores = sentiment_analyzer_scores(sentence)\n",
    "        sent_list.append([sentence, \n",
    "                          count, \n",
    "                          scores['neg'], \n",
    "                          scores['neu'], \n",
    "                          scores['pos'], \n",
    "                          scores['compound']])"
   ]
  },
  {
   "cell_type": "code",
   "execution_count": 12,
   "metadata": {},
   "outputs": [
    {
     "data": {
      "text/html": [
       "<div>\n",
       "<style scoped>\n",
       "    .dataframe tbody tr th:only-of-type {\n",
       "        vertical-align: middle;\n",
       "    }\n",
       "\n",
       "    .dataframe tbody tr th {\n",
       "        vertical-align: top;\n",
       "    }\n",
       "\n",
       "    .dataframe thead th {\n",
       "        text-align: right;\n",
       "    }\n",
       "</style>\n",
       "<table border=\"1\" class=\"dataframe\">\n",
       "  <thead>\n",
       "    <tr style=\"text-align: right;\">\n",
       "      <th></th>\n",
       "      <th>index</th>\n",
       "      <th>sentence</th>\n",
       "      <th>chapter</th>\n",
       "      <th>neg</th>\n",
       "      <th>neu</th>\n",
       "      <th>pos</th>\n",
       "      <th>compound</th>\n",
       "      <th>chapter_text</th>\n",
       "    </tr>\n",
       "  </thead>\n",
       "  <tbody>\n",
       "    <tr>\n",
       "      <th>0</th>\n",
       "      <td>0</td>\n",
       "      <td>PART ONE  CONTAINING THE PAPERS OF A Are pas...</td>\n",
       "      <td>0</td>\n",
       "      <td>0.000</td>\n",
       "      <td>0.814</td>\n",
       "      <td>0.186</td>\n",
       "      <td>0.4939</td>\n",
       "      <td>Preface</td>\n",
       "    </tr>\n",
       "    <tr>\n",
       "      <th>1</th>\n",
       "      <td>1</td>\n",
       "      <td>Reason alone baptized?</td>\n",
       "      <td>0</td>\n",
       "      <td>0.500</td>\n",
       "      <td>0.500</td>\n",
       "      <td>0.000</td>\n",
       "      <td>-0.2500</td>\n",
       "      <td>Preface</td>\n",
       "    </tr>\n",
       "    <tr>\n",
       "      <th>2</th>\n",
       "      <td>2</td>\n",
       "      <td>Edward Young1 PREFACE  PERHAPS it has sometime...</td>\n",
       "      <td>0</td>\n",
       "      <td>0.083</td>\n",
       "      <td>0.773</td>\n",
       "      <td>0.144</td>\n",
       "      <td>0.6486</td>\n",
       "      <td>Preface</td>\n",
       "    </tr>\n",
       "    <tr>\n",
       "      <th>3</th>\n",
       "      <td>3</td>\n",
       "      <td>Your life has perhaps brought you into touch w...</td>\n",
       "      <td>0</td>\n",
       "      <td>0.054</td>\n",
       "      <td>0.850</td>\n",
       "      <td>0.096</td>\n",
       "      <td>0.3612</td>\n",
       "      <td>Preface</td>\n",
       "    </tr>\n",
       "    <tr>\n",
       "      <th>4</th>\n",
       "      <td>4</td>\n",
       "      <td>Perhaps neither case applies to you and your l...</td>\n",
       "      <td>0</td>\n",
       "      <td>0.071</td>\n",
       "      <td>0.857</td>\n",
       "      <td>0.071</td>\n",
       "      <td>0.0000</td>\n",
       "      <td>Preface</td>\n",
       "    </tr>\n",
       "  </tbody>\n",
       "</table>\n",
       "</div>"
      ],
      "text/plain": [
       "   index                                           sentence chapter    neg  \\\n",
       "0      0    PART ONE  CONTAINING THE PAPERS OF A Are pas...       0  0.000   \n",
       "1      1                             Reason alone baptized?       0  0.500   \n",
       "2      2  Edward Young1 PREFACE  PERHAPS it has sometime...       0  0.083   \n",
       "3      3  Your life has perhaps brought you into touch w...       0  0.054   \n",
       "4      4  Perhaps neither case applies to you and your l...       0  0.071   \n",
       "\n",
       "     neu    pos  compound chapter_text  \n",
       "0  0.814  0.186    0.4939      Preface  \n",
       "1  0.500  0.000   -0.2500      Preface  \n",
       "2  0.773  0.144    0.6486      Preface  \n",
       "3  0.850  0.096    0.3612      Preface  \n",
       "4  0.857  0.071    0.0000      Preface  "
      ]
     },
     "execution_count": 12,
     "metadata": {},
     "output_type": "execute_result"
    }
   ],
   "source": [
    "#combine list of sentence sentiments and chapter names into dataframe\n",
    "sent_df = pd.DataFrame(sent_list, columns=['sentence', \n",
    "                                'chapter', \n",
    "                                'neg', \n",
    "                                'neu', \n",
    "                                'pos', \n",
    "                                'compound'])\n",
    "sent_df = sent_df.reset_index()\n",
    "sent_df['chapter'] = sent_df['chapter'].astype('str')\n",
    "sent_df['chapter_text'] = sent_df['chapter'].map(chapter_names)\n",
    "sent_df['chapter_text'] = sent_df['chapter_text'].astype('str')\n",
    "\n",
    "sent_df.head()"
   ]
  },
  {
   "cell_type": "code",
   "execution_count": 24,
   "metadata": {},
   "outputs": [
    {
     "name": "stdout",
     "output_type": "stream",
     "text": [
      "9371 sentences\n"
     ]
    }
   ],
   "source": [
    "#Double check that the number of sentences is the same\n",
    "print(str(len(sent_df)) + \" sentences\")"
   ]
  },
  {
   "cell_type": "code",
   "execution_count": 13,
   "metadata": {},
   "outputs": [],
   "source": [
    "#correct duplicate chapter numbers for later, merge 5 and 6 together\n",
    "def merge_chapters(chap_left, chap_right):\n",
    "    sent_df.chapter = sent_df.chapter.astype(\"int\").replace(chap_right, chap_left)\n",
    "    chap_numbers = sent_df.chapter.unique()\n",
    "    for i in range(chap_left, chap_numbers[-1], 1):\n",
    "        sent_df.chapter = sent_df.chapter.replace(i+1, i)\n",
    "        \n",
    "merge_chapters(5, 6)"
   ]
  },
  {
   "cell_type": "markdown",
   "metadata": {},
   "source": [
    "## Plot Compound Sentiment Across All Chapters"
   ]
  },
  {
   "cell_type": "markdown",
   "metadata": {},
   "source": [
    "Inspiration for the graphics and sentiment technique comes from Greg Rafferty's online article: [Sentiment Analysis on the Texts of Harry Potter](https://towardsdatascience.com/basic-nlp-on-the-texts-of-harry-potter-sentiment-analysis-1b474b13651d)."
   ]
  },
  {
   "cell_type": "code",
   "execution_count": 14,
   "metadata": {},
   "outputs": [],
   "source": [
    "#Moving average function\n",
    "def moving_average(interval, window_size):\n",
    "    window = np.ones(int(window_size))/float(window_size)\n",
    "    return np.convolve(interval, window, 'same')"
   ]
  },
  {
   "cell_type": "code",
   "execution_count": 15,
   "metadata": {},
   "outputs": [
    {
     "data": {
      "text/plain": [
       "<Figure size 1400x400 with 1 Axes>"
      ]
     },
     "metadata": {},
     "output_type": "display_data"
    }
   ],
   "source": [
    "import matplotlib.pyplot as plt\n",
    "import numpy as np\n",
    "import seaborn as sns\n",
    "\n",
    "#Calculate moving average for compound score, then graph it using lmplot\n",
    "y = sent_df['compound']\n",
    "sent_df['moving_avg_comp'] = moving_average(y, 150)\n",
    "\n",
    "font = {'family': 'serif', \n",
    "        \"weight\": 'normal', \n",
    "        'size': 27,}\n",
    "\n",
    "sns.lmplot(y='moving_avg_comp', x='index', data=sent_df, \n",
    "           hue='chapter_text', fit_reg=False, \n",
    "           height=4, aspect=3.5, legend=False, palette='Paired', \n",
    "           scatter_kws={\"s\": 10})\n",
    "\n",
    "#Add vertical lines\n",
    "chapter_places = sent_df['chapter'].diff()[lambda x: x != 0].index.tolist()\n",
    "\n",
    "for i in range(1,len(chapter_places)-1,1):\n",
    "    plt.axvline(x=chapter_places[i], color=\"gray\")\n",
    "    plt.text(chapter_places[i],-.4, i+1)\n",
    "\n",
    "#Graph formatting\n",
    "plt.xlim(0)\n",
    "plt.text(4000,-.05, \"Neutral Sentiment\")\n",
    "plt.legend(bbox_to_anchor=(1.05, 1), loc=4, borderaxespad=2, markerscale=2.0)\n",
    "plt.plot([1,9370], [0,0], linewidth=2, color = \"gray\")\n",
    "plt.title(\"150 Word Moving Average of \\nCompound Sentiment Score \\nfor Kierkegaard's $\\it{Either/Or}$\", \n",
    "          loc='left', pad = 30, fontdict = font)\n",
    "font = {'family': 'serif', \n",
    "        \"weight\": 'normal', \n",
    "        'size': 16,}\n",
    "plt.xlabel(\"Book from Start to Finish with Chapters\", fontdict = font, labelpad = 20)\n",
    "plt.ylabel(\"VADER Sentiment Score\", fontdict = font)\n",
    "plt.xticks([])\n",
    "plt.show()"
   ]
  },
  {
   "cell_type": "markdown",
   "metadata": {},
   "source": [
    "#### Graph Analysis\n",
    "First some background of the text is necessary <br><br>\n",
    "Kierkegaard's *Either/Or* explores one of human's most pondered questions, how should we live? It is an interesting book to analyze because it is composed of a narrator and the correspondences between two opposite-thinking psuedonyms of Kierkegaard, named A and B. The Preface is a story of how these papers were found, in an old desk (which is somewhat of a trope of Kierkegaard's, adding to the sense of mystery and discovery). The first part of the book of seven chapters is written by author A, titled *Either* and the last four chapters are written by B in response to A titled *Or*. Keep in mind the numbers represent when that chapter starts, chapter 7 *The Seducer's Diary* is written by A. <br><br> Authors A and B argue for two very different types of lifestyles. A argues for a lifestyle described by Kierkegaard as the __aesthetic__, generally living life with flexible morality and pursuing new and exciting experiences with no commitments. B on the other hand advocates for the __ethical__ life, living life with set morals and pursuing lasting happiness through long-held relationships, like marriage. Our analysis investigates this philosophical divide by examining sentiment and we can isolate each author's works by their respective chapters."
   ]
  },
  {
   "cell_type": "markdown",
   "metadata": {},
   "source": [
    "* Aesthetic chapters 2-7: A quick look at this portion of the book reveals both positive and negative sentiment, chapter 3 being largely positive and chapter 4 being very much negative. While obviously the most negative chapter of the book, it is interesting to see the sharp changes in the moving average as we start chapters 3 and 4. Perhaps the topic of the chapters is naturally characterized as negative or positive, and our VADER sentiment analysis captures this topic instead of the tone. <br><br>\n",
    "* Ethical chapters 8-11: This section of the book, written by author B, seems to be more positive overall and with an interesting degree of variability, almost cyclical at times. I think the most interesting analysis however comes with reading the text, as you can pinpoint changes in sentiment with the context of the text. <br><br>"
   ]
  },
  {
   "cell_type": "markdown",
   "metadata": {},
   "source": [
    "Add Psuedonyms Column for either Narrator, Author A, or Author B"
   ]
  },
  {
   "cell_type": "code",
   "execution_count": 16,
   "metadata": {},
   "outputs": [],
   "source": [
    "chapter_author = {'Preface':'Neutral', \n",
    "                 'Diapsalmata':'Aesthetic', \n",
    "                 'The Immediate Erotic Stages or the Musical Erotic':'Aesthetic', \n",
    "                 'Ancient Tragedys Rreflection in the Modern':'Aesthetic', \n",
    "                 'Shadowgraphs':'Aesthetic', \n",
    "                 'Crop Rotation':'Aesthetic',  \n",
    "                 'The Seducers Diary':'Aesthetic', \n",
    "                 'The Aesthetic Validity of Marriage':'Ethical', \n",
    "                 'Equilibrium Between the Aesthetic and the Ethical in the Development of Personality':'Ethical', \n",
    "                 'Last Word':'Ethical', \n",
    "                 'The Edifying in the Thought that Against God We Are Always in the Wrong':'Ethical'}\n",
    "sent_df['chapter_author'] = sent_df['chapter_text'].map(chapter_author)"
   ]
  },
  {
   "cell_type": "markdown",
   "metadata": {},
   "source": [
    "## Plot a Single Chapter's Sentiment"
   ]
  },
  {
   "cell_type": "code",
   "execution_count": 17,
   "metadata": {},
   "outputs": [
    {
     "data": {
      "image/png": "[encoded data removed]",
      "text/plain": [
       "<Figure size 432x288 with 1 Axes>"
      ]
     },
     "metadata": {
      "needs_background": "light"
     },
     "output_type": "display_data"
    }
   ],
   "source": [
    "def plot_chapter(chap_num):\n",
    "    name = \"Chapter: \" + str(chapter_names[str(chap_num)]) + \"\\n Moving Average of Compound Score\"\n",
    "    data = sent_df[sent_df['chapter'] == chap_num]\n",
    "    width = len(data)\n",
    "    start = data.index[0]\n",
    "    data.plot(kind=\"line\", x='index', y='moving_avg_comp')\n",
    "    plt.plot([start, start+width], [0,0], linewidth=2, color=\"gray\")\n",
    "    plt.title(name)\n",
    "    plt.ylabel(\"Vader Sentiment Score\")\n",
    "    plt.xlabel(\"Sentences in Chronological Order\")\n",
    "    plt.xticks()\n",
    "    plt.show()\n",
    "    \n",
    "\n",
    "plot_chapter(chap_num = 5)"
   ]
  },
  {
   "cell_type": "markdown",
   "metadata": {},
   "source": [
    "Here we would like to examine the text to see if there are interesting points of context. To examine interesting points of our overall book graph, change the number in the fuction __plot_chapter =__ in the last line of the box above to the chapter number you wish to examine close-up. Then change the variable *sentence_place* below to the number you would estimate to be on the horizontal axis. <br><br> For example, I would like to find where in the text the sentiment seems to change in chapter 5. Using the graph of chapter 5 above and the lowest point on the graph to be around 2830 sentence into the book, I can print the sentence at that location."
   ]
  },
  {
   "cell_type": "code",
   "execution_count": 18,
   "metadata": {},
   "outputs": [
    {
     "name": "stdout",
     "output_type": "stream",
     "text": [
      "2830    For one blow can either deprive him of hope, s...\n",
      "Name: sentence, dtype: object\n"
     ]
    }
   ],
   "source": [
    "sentence_place = 2830\n",
    "one_sentence = str(sent_df[sent_df.index == sentence_place].sentence)\n",
    "print(one_sentence)"
   ]
  },
  {
   "cell_type": "markdown",
   "metadata": {},
   "source": [
    "With this sentence, I can then open the eBook, search for this sentence, and then investigate why the sentiment seems to change dramatically at this part of the chapter. "
   ]
  },
  {
   "cell_type": "markdown",
   "metadata": {},
   "source": [
    "## Author Comparisons\n",
    "Compare basic statistics between the two authors, keeping in mind the volume of sentences is different for each author."
   ]
  },
  {
   "cell_type": "code",
   "execution_count": 19,
   "metadata": {},
   "outputs": [
    {
     "name": "stdout",
     "output_type": "stream",
     "text": [
      "Descriptive statitics for compound column\n",
      "\n",
      "|       |   aesthetic |   ethical |\n",
      "|-------|-------------|-----------|\n",
      "| count |   5764.0000 | 3393.0000 |\n",
      "| mean  |      0.1301 |    0.2160 |\n",
      "| std   |      0.4693 |    0.5015 |\n",
      "| min   |     -0.9855 |   -0.9819 |\n",
      "| 25%   |     -0.1141 |   -0.0516 |\n",
      "| 50%   |      0.0000 |    0.2263 |\n",
      "| 75%   |      0.5109 |    0.6486 |\n",
      "| max   |      0.9871 |    0.9948 |\n"
     ]
    }
   ],
   "source": [
    "from tabulate import tabulate\n",
    "\n",
    "#Choose what column you would like descriptive statistics of, pos, neg, neu, or compound\n",
    "def descriptive_statistics(metric):\n",
    "    metric = str(metric)\n",
    "    sent_aes = sent_df[sent_df['chapter_author'] == 'Aesthetic']\n",
    "    sent_eth = sent_df[sent_df['chapter_author'] == 'Ethical']\n",
    "\n",
    "    aes_desc = sent_aes[metric].describe()\n",
    "    eth_desc = sent_eth[metric].describe()\n",
    "    \n",
    "    df = pd.DataFrame({\"aesthetic\": aes_desc,\n",
    "                  \"ethical\": eth_desc})\n",
    "    print(\"Descriptive statitics for \" + metric + \" column\\n\")\n",
    "    print(tabulate(df, headers=[\"\", \"aesthetic\", \"ethical\"], \n",
    "               tablefmt='github', floatfmt=\".4f\"))\n",
    "\n",
    "descriptive_statistics(metric = \"compound\")"
   ]
  },
  {
   "cell_type": "markdown",
   "metadata": {},
   "source": [
    "### Box Plot"
   ]
  },
  {
   "cell_type": "code",
   "execution_count": 20,
   "metadata": {},
   "outputs": [
    {
     "data": {
      "image/png": "[encoded data removed]",
      "text/plain": [
       "<Figure size 432x288 with 1 Axes>"
      ]
     },
     "metadata": {
      "needs_background": "light"
     },
     "output_type": "display_data"
    }
   ],
   "source": [
    "import seaborn as sns\n",
    "import matplotlib.pyplot as plt\n",
    "from scipy.stats import iqr\n",
    "import statistics as stat\n",
    "import matplotlib.ticker as mtick\n",
    "\n",
    "def basic_boxplot(metric):\n",
    "    metric = str(metric)\n",
    "    sns.boxplot(x='chapter_author', y=metric, \n",
    "            data=sent_df[sent_df.chapter_author != \"Neutral\"], palette=\"Paired\")\n",
    "    plt.xlabel(\"chapter author\", fontdict = font, labelpad = 20)\n",
    "    plt.ylabel(metric + \" scores\", fontdict = font)\n",
    "    plt.suptitle(\"Boxplot of the Two Author's \" + metric + \" Scores\", fontdict = font)\n",
    "basic_boxplot(metric='compound')"
   ]
  },
  {
   "cell_type": "code",
   "execution_count": 21,
   "metadata": {},
   "outputs": [],
   "source": [
    "def desc_stat_chapters(metric):\n",
    "    #filter out preface, get list of chapters to describe\n",
    "    metric = str(metric)\n",
    "    df_chap = sent_df[sent_df.chapter_author != \"Neutral\"]\n",
    "    chapters = sent_df['chapter_text'].unique()\n",
    "    \n",
    "    dicts = {}\n",
    "    i = 2\n",
    "    for chap in chapters:\n",
    "        #create chapter 1, chapter 2 for desc statistics table, start from 2 since preface is out\n",
    "        dicts['chapter ' + str(i)] = str(chap)\n",
    "        # filter out \n",
    "\n",
    "    aes_desc = sent_aes[metric].describe()\n",
    "    eth_desc = sent_eth[metric].describe()\n",
    "    \n",
    "    df = pd.DataFrame({\"aesthetic\": aes_desc,\n",
    "                  \"ethical\": eth_desc})\n",
    "    print(\"Descriptive statitics for \" + metric + \" column\\n\")\n",
    "    print(tabulate(df, headers=[\"\", \"aesthetic\", \"ethical\"], \n",
    "               tablefmt='github', floatfmt=\".4f\"))"
   ]
  },
  {
   "cell_type": "code",
   "execution_count": 22,
   "metadata": {},
   "outputs": [
    {
     "data": {
      "image/png": "[encoded data removed]",
      "text/plain": [
       "<Figure size 1152x576 with 1 Axes>"
      ]
     },
     "metadata": {
      "needs_background": "light"
     },
     "output_type": "display_data"
    }
   ],
   "source": [
    "%matplotlib inline\n",
    "\n",
    "def chapters_boxplot(metric):\n",
    "    metric = str(metric)\n",
    "    plt.figure(figsize=(16, 8))\n",
    "    b = sns.boxplot(x='chapter_text', y=metric, \n",
    "            data=sent_df[sent_df.chapter_author != \"Neutral\"], \n",
    "                palette=\"Paired\", hue='chapter_author', width=1.2)\n",
    "    font = {'family': 'serif', \n",
    "        \"weight\": 'normal', \n",
    "        'size': 27,}\n",
    "    b.set_xlabel(\"chapters in chronological order\", fontdict = font, labelpad = 20)\n",
    "    b.set_ylabel(metric + \" scores\", fontdict = font)\n",
    "    #plt.legend()\n",
    "    b.legend(loc = 10, bbox_to_anchor=(.65,0.3), prop={'size': 20})\n",
    "    font = {'family': 'serif', \"weight\": 'normal', 'size': 30}\n",
    "    b.axes.set_title(\"Boxplot of the Two Author's \" + metric + \" Scores\", \n",
    "                     fontdict=font, pad=20)\n",
    "    plt.xticks([])\n",
    "chapters_boxplot(metric='compound')"
   ]
  }
 ],
 "metadata": {
  "kernelspec": {
   "display_name": "Python 3",
   "language": "python",
   "name": "python3"
  },
  "language_info": {
   "codemirror_mode": {
    "name": "ipython",
    "version": 3
   },
   "file_extension": ".py",
   "mimetype": "text/x-python",
   "name": "python",
   "nbconvert_exporter": "python",
   "pygments_lexer": "ipython3",
   "version": "3.7.3"
  }
 },
 "nbformat": 4,
 "nbformat_minor": 2
}
